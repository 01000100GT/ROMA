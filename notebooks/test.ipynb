{
 "cells": [
  {
   "cell_type": "code",
   "execution_count": 1,
   "metadata": {},
   "outputs": [
    {
     "ename": "ImportError",
     "evalue": "attempted relative import with no known parent package",
     "output_type": "error",
     "traceback": [
      "\u001b[31m---------------------------------------------------------------------------\u001b[39m",
      "\u001b[31mImportError\u001b[39m                               Traceback (most recent call last)",
      "\u001b[36mCell\u001b[39m\u001b[36m \u001b[39m\u001b[32mIn[1]\u001b[39m\u001b[32m, line 2\u001b[39m\n\u001b[32m      1\u001b[39m \u001b[38;5;28;01mimport\u001b[39;00m\u001b[38;5;250m \u001b[39m\u001b[34;01mmultiprocessing\u001b[39;00m\n\u001b[32m----> \u001b[39m\u001b[32m2\u001b[39m \u001b[38;5;28;01mfrom\u001b[39;00m\u001b[38;5;250m \u001b[39m\u001b[34;01m.\u001b[39;00m\u001b[34;01m.\u001b[39;00m\u001b[34;01mevals\u001b[39;00m\u001b[34;01m.\u001b[39;00m\u001b[34;01mmultiprocessing_helper\u001b[39;00m\u001b[38;5;250m \u001b[39m\u001b[38;5;28;01mimport\u001b[39;00m run_agent_execution\n",
      "\u001b[31mImportError\u001b[39m: attempted relative import with no known parent package"
     ]
    }
   ],
   "source": [
    "import multiprocessing\n",
    "from ..evals.multiprocessing_helper import run_agent_execution"
   ]
  },
  {
   "cell_type": "code",
   "execution_count": null,
   "metadata": {},
   "outputs": [],
   "source": [
    "# A list of independent queries to be executed in parallel.\n",
    "queries = [\n",
    "    \"How many NBA players have scored 60 or more points in a regular season game since 2023?\",\n",
    "    \"What is the current age of the last American experimental physicist to win the Nobel Prize in Physics?\",\n",
    "    \"How many books has Jamie Oliver published since 2020?\",\n",
    "]\n",
    "\n",
    "processes = []\n",
    "results = []\n",
    "queue = multiprocessing.Queue()\n",
    "\n",
    "print(\"🏁 Starting agent executions, each in its own isolated process...\")\n",
    "for i, query in enumerate(queries):\n",
    "    # Create a Process for each query.\n",
    "    process = multiprocessing.Process(\n",
    "        target=run_agent_execution,\n",
    "        args=(query, queue),  # Pass the queue to the function\n",
    "        name=f\"AgentProcess-{i+1}\"\n",
    "    )\n",
    "    processes.append(process)\n",
    "    process.start()  # Start the new process\n",
    "\n",
    "# Wait for all processes to complete their execution\n",
    "for process in processes:\n",
    "    process.join()\n",
    "\n",
    "# Retrieve results from the queue\n",
    "while not queue.empty():\n",
    "    result = queue.get()\n",
    "    results.append(result)\n",
    "\n",
    "print(\"Results:\", results)"
   ]
  },
  {
   "cell_type": "code",
   "execution_count": null,
   "metadata": {},
   "outputs": [],
   "source": []
  }
 ],
 "metadata": {
  "kernelspec": {
   "display_name": ".venv",
   "language": "python",
   "name": "python3"
  },
  "language_info": {
   "codemirror_mode": {
    "name": "ipython",
    "version": 3
   },
   "file_extension": ".py",
   "mimetype": "text/x-python",
   "name": "python",
   "nbconvert_exporter": "python",
   "pygments_lexer": "ipython3",
   "version": "3.12.9"
  }
 },
 "nbformat": 4,
 "nbformat_minor": 2
}
