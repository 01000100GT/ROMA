{
 "cells": [
  {
   "cell_type": "code",
   "execution_count": 12,
   "metadata": {},
   "outputs": [],
   "source": [
    "from litellm import completion, completion_cost, token_counter\n",
    "\n",
    "response = completion(\n",
    "            model=\"openrouter/anthropic/claude-sonnet-4\",\n",
    "            messages=[\n",
    "                {\"role\": \"user\", \"content\": \"Write me 2 paragraphs about the history of rome?\"}\n",
    "            ]        \n",
    "        )"
   ]
  },
  {
   "cell_type": "code",
   "execution_count": 13,
   "metadata": {},
   "outputs": [
    {
     "name": "stdout",
     "output_type": "stream",
     "text": [
      "ModelResponse(id='gen-1750178139-cJup6guYyAf7H8oD0kie', created=1750178139, model='anthropic/claude-sonnet-4', object='chat.completion', system_fingerprint=None, choices=[Choices(finish_reason='stop', index=0, message=Message(content=\"The history of Rome spans over two millennia, beginning as a small city-state in central Italy around 753 BCE according to traditional dating. Initially ruled by kings, Rome transitioned to a republic in 509 BCE after overthrowing the last Etruscan monarch. The Roman Republic expanded dramatically through military conquest, first dominating the Italian peninsula, then defeating rival powers like Carthage in the Punic Wars, and eventually controlling much of the Mediterranean world. However, internal conflicts, civil wars, and the ambitions of powerful generals like Julius Caesar ultimately led to the republic's downfall in the first century BCE.\\n\\nThe assassination of Caesar in 44 BCE paved the way for his adopted heir Octavian (later Augustus) to become Rome's first emperor, ushering in the Roman Empire in 27 BCE. The empire reached its greatest territorial extent under Emperor Trajan in the early 2nd century CE, stretching from Britain to Mesopotamia. For several centuries, Rome maintained relative peace and prosperity known as the Pax Romana, fostering trade, culture, and the spread of Roman law and engineering throughout its territories. However, the empire gradually weakened due to political instability, economic troubles, barbarian invasions, and administrative challenges. The Western Roman Empire officially fell in 476 CE when Germanic chieftain Odoacer deposed the last emperor, though the Eastern Roman Empire (Byzantine Empire) continued for another thousand years until 1453 CE.\", role='assistant', tool_calls=None, function_call=None, provider_specific_fields={'refusal': None, 'reasoning': None}), provider_specific_fields={'native_finish_reason': 'stop'})], usage=Usage(completion_tokens=318, prompt_tokens=21, total_tokens=339, completion_tokens_details=None, prompt_tokens_details=None), provider='Google')\n"
     ]
    }
   ],
   "source": [
    "print(response)"
   ]
  },
  {
   "cell_type": "code",
   "execution_count": 14,
   "metadata": {},
   "outputs": [
    {
     "ename": "Exception",
     "evalue": "This model isn't mapped yet. model=anthropic/claude-sonnet-4, custom_llm_provider=openrouter. Add it here - https://github.com/BerriAI/litellm/blob/main/model_prices_and_context_window.json.",
     "output_type": "error",
     "traceback": [
      "\u001b[31m---------------------------------------------------------------------------\u001b[39m",
      "\u001b[31mValueError\u001b[39m                                Traceback (most recent call last)",
      "\u001b[36mFile \u001b[39m\u001b[32m~/cursor_projects/SentientResearchAgent/.venv/lib/python3.12/site-packages/litellm/utils.py:4570\u001b[39m, in \u001b[36m_get_model_info_helper\u001b[39m\u001b[34m(model, custom_llm_provider)\u001b[39m\n\u001b[32m   4569\u001b[39m \u001b[38;5;28;01mif\u001b[39;00m _model_info \u001b[38;5;129;01mis\u001b[39;00m \u001b[38;5;28;01mNone\u001b[39;00m \u001b[38;5;129;01mor\u001b[39;00m key \u001b[38;5;129;01mis\u001b[39;00m \u001b[38;5;28;01mNone\u001b[39;00m:\n\u001b[32m-> \u001b[39m\u001b[32m4570\u001b[39m     \u001b[38;5;28;01mraise\u001b[39;00m \u001b[38;5;167;01mValueError\u001b[39;00m(\n\u001b[32m   4571\u001b[39m         \u001b[33m\"\u001b[39m\u001b[33mThis model isn\u001b[39m\u001b[33m'\u001b[39m\u001b[33mt mapped yet. Add it here - https://github.com/BerriAI/litellm/blob/main/model_prices_and_context_window.json\u001b[39m\u001b[33m\"\u001b[39m\n\u001b[32m   4572\u001b[39m     )\n\u001b[32m   4574\u001b[39m _input_cost_per_token: Optional[\u001b[38;5;28mfloat\u001b[39m] = _model_info.get(\n\u001b[32m   4575\u001b[39m     \u001b[33m\"\u001b[39m\u001b[33minput_cost_per_token\u001b[39m\u001b[33m\"\u001b[39m\n\u001b[32m   4576\u001b[39m )\n",
      "\u001b[31mValueError\u001b[39m: This model isn't mapped yet. Add it here - https://github.com/BerriAI/litellm/blob/main/model_prices_and_context_window.json",
      "\nDuring handling of the above exception, another exception occurred:\n",
      "\u001b[31mException\u001b[39m                                 Traceback (most recent call last)",
      "\u001b[36mCell\u001b[39m\u001b[36m \u001b[39m\u001b[32mIn[14]\u001b[39m\u001b[32m, line 1\u001b[39m\n\u001b[32m----> \u001b[39m\u001b[32m1\u001b[39m \u001b[43mcompletion_cost\u001b[49m\u001b[43m(\u001b[49m\u001b[43mresponse\u001b[49m\u001b[43m)\u001b[49m\n",
      "\u001b[36mFile \u001b[39m\u001b[32m~/cursor_projects/SentientResearchAgent/.venv/lib/python3.12/site-packages/litellm/cost_calculator.py:927\u001b[39m, in \u001b[36mcompletion_cost\u001b[39m\u001b[34m(completion_response, model, prompt, messages, completion, total_time, call_type, custom_llm_provider, region_name, size, quality, n, custom_cost_per_token, custom_cost_per_second, optional_params, custom_pricing, base_model, standard_built_in_tools_params, litellm_model_name, router_model_id)\u001b[39m\n\u001b[32m    921\u001b[39m     \u001b[38;5;28;01mraise\u001b[39;00m \u001b[38;5;167;01mException\u001b[39;00m(\n\u001b[32m    922\u001b[39m         \u001b[33m\"\u001b[39m\u001b[33mUnable to calculat cost for received potential model names - \u001b[39m\u001b[38;5;132;01m{}\u001b[39;00m\u001b[33m\"\u001b[39m.format(\n\u001b[32m    923\u001b[39m             potential_model_names\n\u001b[32m    924\u001b[39m         )\n\u001b[32m    925\u001b[39m     )\n\u001b[32m    926\u001b[39m \u001b[38;5;28;01mexcept\u001b[39;00m \u001b[38;5;167;01mException\u001b[39;00m \u001b[38;5;28;01mas\u001b[39;00m e:\n\u001b[32m--> \u001b[39m\u001b[32m927\u001b[39m     \u001b[38;5;28;01mraise\u001b[39;00m e\n",
      "\u001b[36mFile \u001b[39m\u001b[32m~/cursor_projects/SentientResearchAgent/.venv/lib/python3.12/site-packages/litellm/cost_calculator.py:920\u001b[39m, in \u001b[36mcompletion_cost\u001b[39m\u001b[34m(completion_response, model, prompt, messages, completion, total_time, call_type, custom_llm_provider, region_name, size, quality, n, custom_cost_per_token, custom_cost_per_second, optional_params, custom_pricing, base_model, standard_built_in_tools_params, litellm_model_name, router_model_id)\u001b[39m\n\u001b[32m    914\u001b[39m             verbose_logger.debug(\n\u001b[32m    915\u001b[39m                 \u001b[33m\"\u001b[39m\u001b[33mlitellm.cost_calculator.py::completion_cost() - Error calculating cost for model=\u001b[39m\u001b[38;5;132;01m{}\u001b[39;00m\u001b[33m - \u001b[39m\u001b[38;5;132;01m{}\u001b[39;00m\u001b[33m\"\u001b[39m.format(\n\u001b[32m    916\u001b[39m                     model, \u001b[38;5;28mstr\u001b[39m(e)\n\u001b[32m    917\u001b[39m                 )\n\u001b[32m    918\u001b[39m             )\n\u001b[32m    919\u001b[39m             \u001b[38;5;28;01mif\u001b[39;00m idx == \u001b[38;5;28mlen\u001b[39m(potential_model_names) - \u001b[32m1\u001b[39m:\n\u001b[32m--> \u001b[39m\u001b[32m920\u001b[39m                 \u001b[38;5;28;01mraise\u001b[39;00m e\n\u001b[32m    921\u001b[39m     \u001b[38;5;28;01mraise\u001b[39;00m \u001b[38;5;167;01mException\u001b[39;00m(\n\u001b[32m    922\u001b[39m         \u001b[33m\"\u001b[39m\u001b[33mUnable to calculat cost for received potential model names - \u001b[39m\u001b[38;5;132;01m{}\u001b[39;00m\u001b[33m\"\u001b[39m.format(\n\u001b[32m    923\u001b[39m             potential_model_names\n\u001b[32m    924\u001b[39m         )\n\u001b[32m    925\u001b[39m     )\n\u001b[32m    926\u001b[39m \u001b[38;5;28;01mexcept\u001b[39;00m \u001b[38;5;167;01mException\u001b[39;00m \u001b[38;5;28;01mas\u001b[39;00m e:\n",
      "\u001b[36mFile \u001b[39m\u001b[32m~/cursor_projects/SentientResearchAgent/.venv/lib/python3.12/site-packages/litellm/cost_calculator.py:882\u001b[39m, in \u001b[36mcompletion_cost\u001b[39m\u001b[34m(completion_response, model, prompt, messages, completion, total_time, call_type, custom_llm_provider, region_name, size, quality, n, custom_cost_per_token, custom_cost_per_second, optional_params, custom_pricing, base_model, standard_built_in_tools_params, litellm_model_name, router_model_id)\u001b[39m\n\u001b[32m    872\u001b[39m         completion_string = litellm.utils.get_response_string(\n\u001b[32m    873\u001b[39m             response_obj=completion_response\n\u001b[32m    874\u001b[39m         )\n\u001b[32m    875\u001b[39m         completion_characters = litellm.utils._count_characters(\n\u001b[32m    876\u001b[39m             text=completion_string\n\u001b[32m    877\u001b[39m         )\n\u001b[32m    879\u001b[39m (\n\u001b[32m    880\u001b[39m     prompt_tokens_cost_usd_dollar,\n\u001b[32m    881\u001b[39m     completion_tokens_cost_usd_dollar,\n\u001b[32m--> \u001b[39m\u001b[32m882\u001b[39m ) = \u001b[43mcost_per_token\u001b[49m\u001b[43m(\u001b[49m\n\u001b[32m    883\u001b[39m \u001b[43m    \u001b[49m\u001b[43mmodel\u001b[49m\u001b[43m=\u001b[49m\u001b[43mmodel\u001b[49m\u001b[43m,\u001b[49m\n\u001b[32m    884\u001b[39m \u001b[43m    \u001b[49m\u001b[43mprompt_tokens\u001b[49m\u001b[43m=\u001b[49m\u001b[43mprompt_tokens\u001b[49m\u001b[43m,\u001b[49m\n\u001b[32m    885\u001b[39m \u001b[43m    \u001b[49m\u001b[43mcompletion_tokens\u001b[49m\u001b[43m=\u001b[49m\u001b[43mcompletion_tokens\u001b[49m\u001b[43m,\u001b[49m\n\u001b[32m    886\u001b[39m \u001b[43m    \u001b[49m\u001b[43mcustom_llm_provider\u001b[49m\u001b[43m=\u001b[49m\u001b[43mcustom_llm_provider\u001b[49m\u001b[43m,\u001b[49m\n\u001b[32m    887\u001b[39m \u001b[43m    \u001b[49m\u001b[43mresponse_time_ms\u001b[49m\u001b[43m=\u001b[49m\u001b[43mtotal_time\u001b[49m\u001b[43m,\u001b[49m\n\u001b[32m    888\u001b[39m \u001b[43m    \u001b[49m\u001b[43mregion_name\u001b[49m\u001b[43m=\u001b[49m\u001b[43mregion_name\u001b[49m\u001b[43m,\u001b[49m\n\u001b[32m    889\u001b[39m \u001b[43m    \u001b[49m\u001b[43mcustom_cost_per_second\u001b[49m\u001b[43m=\u001b[49m\u001b[43mcustom_cost_per_second\u001b[49m\u001b[43m,\u001b[49m\n\u001b[32m    890\u001b[39m \u001b[43m    \u001b[49m\u001b[43mcustom_cost_per_token\u001b[49m\u001b[43m=\u001b[49m\u001b[43mcustom_cost_per_token\u001b[49m\u001b[43m,\u001b[49m\n\u001b[32m    891\u001b[39m \u001b[43m    \u001b[49m\u001b[43mprompt_characters\u001b[49m\u001b[43m=\u001b[49m\u001b[43mprompt_characters\u001b[49m\u001b[43m,\u001b[49m\n\u001b[32m    892\u001b[39m \u001b[43m    \u001b[49m\u001b[43mcompletion_characters\u001b[49m\u001b[43m=\u001b[49m\u001b[43mcompletion_characters\u001b[49m\u001b[43m,\u001b[49m\n\u001b[32m    893\u001b[39m \u001b[43m    \u001b[49m\u001b[43mcache_creation_input_tokens\u001b[49m\u001b[43m=\u001b[49m\u001b[43mcache_creation_input_tokens\u001b[49m\u001b[43m,\u001b[49m\n\u001b[32m    894\u001b[39m \u001b[43m    \u001b[49m\u001b[43mcache_read_input_tokens\u001b[49m\u001b[43m=\u001b[49m\u001b[43mcache_read_input_tokens\u001b[49m\u001b[43m,\u001b[49m\n\u001b[32m    895\u001b[39m \u001b[43m    \u001b[49m\u001b[43musage_object\u001b[49m\u001b[43m=\u001b[49m\u001b[43mcost_per_token_usage_object\u001b[49m\u001b[43m,\u001b[49m\n\u001b[32m    896\u001b[39m \u001b[43m    \u001b[49m\u001b[43mcall_type\u001b[49m\u001b[43m=\u001b[49m\u001b[43mcast\u001b[49m\u001b[43m(\u001b[49m\u001b[43mCallTypesLiteral\u001b[49m\u001b[43m,\u001b[49m\u001b[43m \u001b[49m\u001b[43mcall_type\u001b[49m\u001b[43m)\u001b[49m\u001b[43m,\u001b[49m\n\u001b[32m    897\u001b[39m \u001b[43m    \u001b[49m\u001b[43maudio_transcription_file_duration\u001b[49m\u001b[43m=\u001b[49m\u001b[43maudio_transcription_file_duration\u001b[49m\u001b[43m,\u001b[49m\n\u001b[32m    898\u001b[39m \u001b[43m    \u001b[49m\u001b[43mrerank_billed_units\u001b[49m\u001b[43m=\u001b[49m\u001b[43mrerank_billed_units\u001b[49m\u001b[43m,\u001b[49m\n\u001b[32m    899\u001b[39m \u001b[43m\u001b[49m\u001b[43m)\u001b[49m\n\u001b[32m    900\u001b[39m _final_cost = (\n\u001b[32m    901\u001b[39m     prompt_tokens_cost_usd_dollar + completion_tokens_cost_usd_dollar\n\u001b[32m    902\u001b[39m )\n\u001b[32m    903\u001b[39m _final_cost += (\n\u001b[32m    904\u001b[39m     StandardBuiltInToolCostTracking.get_cost_for_built_in_tools(\n\u001b[32m    905\u001b[39m         model=model,\n\u001b[32m   (...)\u001b[39m\u001b[32m    910\u001b[39m     )\n\u001b[32m    911\u001b[39m )\n",
      "\u001b[36mFile \u001b[39m\u001b[32m~/cursor_projects/SentientResearchAgent/.venv/lib/python3.12/site-packages/litellm/cost_calculator.py:333\u001b[39m, in \u001b[36mcost_per_token\u001b[39m\u001b[34m(model, prompt_tokens, completion_tokens, response_time_ms, custom_llm_provider, region_name, prompt_characters, completion_characters, cache_creation_input_tokens, cache_read_input_tokens, custom_cost_per_token, custom_cost_per_second, number_of_queries, usage_object, rerank_billed_units, call_type, audio_transcription_file_duration)\u001b[39m\n\u001b[32m    331\u001b[39m     \u001b[38;5;28;01mreturn\u001b[39;00m deepseek_cost_per_token(model=model, usage=usage_block)\n\u001b[32m    332\u001b[39m \u001b[38;5;28;01melse\u001b[39;00m:\n\u001b[32m--> \u001b[39m\u001b[32m333\u001b[39m     model_info = \u001b[43m_cached_get_model_info_helper\u001b[49m\u001b[43m(\u001b[49m\n\u001b[32m    334\u001b[39m \u001b[43m        \u001b[49m\u001b[43mmodel\u001b[49m\u001b[43m=\u001b[49m\u001b[43mmodel\u001b[49m\u001b[43m,\u001b[49m\u001b[43m \u001b[49m\u001b[43mcustom_llm_provider\u001b[49m\u001b[43m=\u001b[49m\u001b[43mcustom_llm_provider\u001b[49m\n\u001b[32m    335\u001b[39m \u001b[43m    \u001b[49m\u001b[43m)\u001b[49m\n\u001b[32m    337\u001b[39m     \u001b[38;5;28;01mif\u001b[39;00m model_info[\u001b[33m\"\u001b[39m\u001b[33minput_cost_per_token\u001b[39m\u001b[33m\"\u001b[39m] > \u001b[32m0\u001b[39m:\n\u001b[32m    338\u001b[39m         \u001b[38;5;66;03m## COST PER TOKEN ##\u001b[39;00m\n\u001b[32m    339\u001b[39m         prompt_tokens_cost_usd_dollar = (\n\u001b[32m    340\u001b[39m             model_info[\u001b[33m\"\u001b[39m\u001b[33minput_cost_per_token\u001b[39m\u001b[33m\"\u001b[39m] * prompt_tokens\n\u001b[32m    341\u001b[39m         )\n",
      "\u001b[36mFile \u001b[39m\u001b[32m~/cursor_projects/SentientResearchAgent/.venv/lib/python3.12/site-packages/litellm/utils.py:4422\u001b[39m, in \u001b[36m_cached_get_model_info_helper\u001b[39m\u001b[34m(model, custom_llm_provider)\u001b[39m\n\u001b[32m   4414\u001b[39m \u001b[38;5;28;01mdef\u001b[39;00m\u001b[38;5;250m \u001b[39m\u001b[34m_cached_get_model_info_helper\u001b[39m(\n\u001b[32m   4415\u001b[39m     model: \u001b[38;5;28mstr\u001b[39m, custom_llm_provider: Optional[\u001b[38;5;28mstr\u001b[39m]\n\u001b[32m   4416\u001b[39m ) -> ModelInfoBase:\n\u001b[32m   4417\u001b[39m \u001b[38;5;250m    \u001b[39m\u001b[33;03m\"\"\"\u001b[39;00m\n\u001b[32m   4418\u001b[39m \u001b[33;03m    _get_model_info_helper wrapped with lru_cache\u001b[39;00m\n\u001b[32m   4419\u001b[39m \n\u001b[32m   4420\u001b[39m \u001b[33;03m    Speed Optimization to hit high RPS\u001b[39;00m\n\u001b[32m   4421\u001b[39m \u001b[33;03m    \"\"\"\u001b[39;00m\n\u001b[32m-> \u001b[39m\u001b[32m4422\u001b[39m     \u001b[38;5;28;01mreturn\u001b[39;00m \u001b[43m_get_model_info_helper\u001b[49m\u001b[43m(\u001b[49m\u001b[43mmodel\u001b[49m\u001b[43m=\u001b[49m\u001b[43mmodel\u001b[49m\u001b[43m,\u001b[49m\u001b[43m \u001b[49m\u001b[43mcustom_llm_provider\u001b[49m\u001b[43m=\u001b[49m\u001b[43mcustom_llm_provider\u001b[49m\u001b[43m)\u001b[49m\n",
      "\u001b[36mFile \u001b[39m\u001b[32m~/cursor_projects/SentientResearchAgent/.venv/lib/python3.12/site-packages/litellm/utils.py:4696\u001b[39m, in \u001b[36m_get_model_info_helper\u001b[39m\u001b[34m(model, custom_llm_provider)\u001b[39m\n\u001b[32m   4694\u001b[39m \u001b[38;5;28;01mif\u001b[39;00m \u001b[33m\"\u001b[39m\u001b[33mOllamaError\u001b[39m\u001b[33m\"\u001b[39m \u001b[38;5;129;01min\u001b[39;00m \u001b[38;5;28mstr\u001b[39m(e):\n\u001b[32m   4695\u001b[39m     \u001b[38;5;28;01mraise\u001b[39;00m e\n\u001b[32m-> \u001b[39m\u001b[32m4696\u001b[39m \u001b[38;5;28;01mraise\u001b[39;00m \u001b[38;5;167;01mException\u001b[39;00m(\n\u001b[32m   4697\u001b[39m     \u001b[33m\"\u001b[39m\u001b[33mThis model isn\u001b[39m\u001b[33m'\u001b[39m\u001b[33mt mapped yet. model=\u001b[39m\u001b[38;5;132;01m{}\u001b[39;00m\u001b[33m, custom_llm_provider=\u001b[39m\u001b[38;5;132;01m{}\u001b[39;00m\u001b[33m. Add it here - https://github.com/BerriAI/litellm/blob/main/model_prices_and_context_window.json.\u001b[39m\u001b[33m\"\u001b[39m.format(\n\u001b[32m   4698\u001b[39m         model, custom_llm_provider\n\u001b[32m   4699\u001b[39m     )\n\u001b[32m   4700\u001b[39m )\n",
      "\u001b[31mException\u001b[39m: This model isn't mapped yet. model=anthropic/claude-sonnet-4, custom_llm_provider=openrouter. Add it here - https://github.com/BerriAI/litellm/blob/main/model_prices_and_context_window.json."
     ]
    }
   ],
   "source": [
    "completion_cost(response)"
   ]
  },
  {
   "cell_type": "code",
   "execution_count": null,
   "metadata": {},
   "outputs": [],
   "source": []
  }
 ],
 "metadata": {
  "kernelspec": {
   "display_name": ".venv",
   "language": "python",
   "name": "python3"
  },
  "language_info": {
   "codemirror_mode": {
    "name": "ipython",
    "version": 3
   },
   "file_extension": ".py",
   "mimetype": "text/x-python",
   "name": "python",
   "nbconvert_exporter": "python",
   "pygments_lexer": "ipython3",
   "version": "3.12.9"
  }
 },
 "nbformat": 4,
 "nbformat_minor": 2
}
