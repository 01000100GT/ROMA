{
 "cells": [
  {
   "cell_type": "code",
   "execution_count": 1,
   "id": "d65eeccd",
   "metadata": {},
   "outputs": [
    {
     "name": "stderr",
     "output_type": "stream",
     "text": [
      "\u001b[32m2025-07-10 12:16:20.186\u001b[0m | \u001b[1mINFO    \u001b[0m | \u001b[36msentientresearchagent.hierarchical_agent_framework.agents\u001b[0m:\u001b[36m<module>\u001b[0m:\u001b[36m6\u001b[0m - \u001b[1m🤖 Initializing YAML-based agent system...\u001b[0m\n",
      "\u001b[32m2025-07-10 12:16:20.187\u001b[0m | \u001b[1mINFO    \u001b[0m | \u001b[36msentientresearchagent.hierarchical_agent_framework.agents\u001b[0m:\u001b[36m<module>\u001b[0m:\u001b[36m42\u001b[0m - \u001b[1m✅ Agent system module loaded successfully\u001b[0m\n",
      "\u001b[32m2025-07-10 12:16:21.044\u001b[0m | \u001b[1mINFO    \u001b[0m | \u001b[36msentientresearchagent.hierarchical_agent_framework.agents.definitions.utility_agents\u001b[0m:\u001b[36m<module>\u001b[0m:\u001b[36m27\u001b[0m - \u001b[1mSuccessfully initialized ContextSummarizer_Agno with model openrouter/google/gemini-2.5-flash-lite-preview-06-17\u001b[0m\n",
      "\u001b[32m2025-07-10 12:16:21.374\u001b[0m | \u001b[34m\u001b[1mDEBUG   \u001b[0m | \u001b[36msentientresearchagent.hierarchical_agent_framework.agent_configs.agent_factory\u001b[0m:\u001b[36m<module>\u001b[0m:\u001b[36m57\u001b[0m - \u001b[34m\u001b[1mLoaded environment variables from .env file\u001b[0m\n",
      "\u001b[32m2025-07-10 12:16:21.379\u001b[0m | \u001b[1mINFO    \u001b[0m | \u001b[36msrc.sentientresearchagent.hierarchical_agent_framework.agents\u001b[0m:\u001b[36m<module>\u001b[0m:\u001b[36m6\u001b[0m - \u001b[1m🤖 Initializing YAML-based agent system...\u001b[0m\n",
      "\u001b[32m2025-07-10 12:16:21.379\u001b[0m | \u001b[1mINFO    \u001b[0m | \u001b[36msrc.sentientresearchagent.hierarchical_agent_framework.agents\u001b[0m:\u001b[36m<module>\u001b[0m:\u001b[36m42\u001b[0m - \u001b[1m✅ Agent system module loaded successfully\u001b[0m\n"
     ]
    },
    {
     "name": "stdout",
     "output_type": "stream",
     "text": [
      "DEBUG: Dynamically loaded TASK_TYPES_STR: 'WRITE', 'THINK', 'SEARCH', 'AGGREGATE', 'CODE_INTERPRET', 'IMAGE_GENERATION'\n",
      "DEBUG: Dynamically loaded NODE_TYPES_STR: 'PLAN', 'EXECUTE'\n",
      "Successfully initialized PlanModifier_Agno with model openrouter/anthropic/claude-4-sonnet\n"
     ]
    },
    {
     "name": "stderr",
     "output_type": "stream",
     "text": [
      "\u001b[32m2025-07-10 12:16:21.427\u001b[0m | \u001b[34m\u001b[1mDEBUG   \u001b[0m | \u001b[36msrc.sentientresearchagent.hierarchical_agent_framework.agent_configs.agent_factory\u001b[0m:\u001b[36m<module>\u001b[0m:\u001b[36m57\u001b[0m - \u001b[34m\u001b[1mLoaded environment variables from .env file\u001b[0m\n"
     ]
    },
    {
     "name": "stdout",
     "output_type": "stream",
     "text": [
      "DEBUG: Dynamically loaded TASK_TYPES_STR: 'WRITE', 'THINK', 'SEARCH', 'AGGREGATE', 'CODE_INTERPRET', 'IMAGE_GENERATION'\n",
      "DEBUG: Dynamically loaded NODE_TYPES_STR: 'PLAN', 'EXECUTE'\n",
      "Successfully initialized PlanModifier_Agno with model openrouter/anthropic/claude-4-sonnet\n"
     ]
    }
   ],
   "source": [
    "import asyncio\n",
    "import uuid\n",
    "from src.sentientresearchagent.hierarchical_agent_framework.agents.definitions.custom_searchers import (\n",
    "    OpenAICustomSearchAdapter,\n",
    "    GeminiCustomSearchAdapter\n",
    ")\n",
    "from src.sentientresearchagent.hierarchical_agent_framework.context.agent_io_models import AgentTaskInput\n",
    "from src.sentientresearchagent.hierarchical_agent_framework.node.task_node import TaskNode\n",
    "from src.sentientresearchagent.hierarchical_agent_framework.tracing.manager import TraceManager\n",
    "from src.sentientresearchagent.hierarchical_agent_framework.types import TaskType, NodeType"
   ]
  },
  {
   "cell_type": "code",
   "execution_count": 2,
   "id": "97358d21",
   "metadata": {},
   "outputs": [],
   "source": [
    "async def test_openai_searcher(query: str):\n",
    "    \"\"\"Test OpenAI searcher with a query\"\"\"\n",
    "    print(f\"\\n🔍 Testing OpenAI Searcher\\nQuery: {query}\\n\")\n",
    "    \n",
    "    # Create task node\n",
    "    node = TaskNode(\n",
    "        task_id=str(uuid.uuid4()),\n",
    "        goal=query,\n",
    "        task_type=TaskType.SEARCH,\n",
    "        node_type=NodeType.EXECUTE,\n",
    "    )\n",
    "    \n",
    "    # Create agent input with all required fields\n",
    "    agent_input = AgentTaskInput(\n",
    "        current_task_id=node.task_id,\n",
    "        current_goal=query,\n",
    "        current_task_type=TaskType.SEARCH.value,  # Convert enum to string\n",
    "        overall_project_goal=query,\n",
    "    )\n",
    "    \n",
    "    # Create trace manager\n",
    "    trace_manager = TraceManager(project_id=\"test\")\n",
    "    \n",
    "    # Initialize adapter and run search\n",
    "    adapter = OpenAICustomSearchAdapter(model_id=\"gpt-4o\")\n",
    "    result = await adapter.process(node, agent_input, trace_manager)\n",
    "    \n",
    "    # Display results\n",
    "    print(\"📊 Results:\")\n",
    "    print(\"-\" * 80)\n",
    "    print(result.get('output_text', 'No output'))\n",
    "    print(\"-\" * 80)\n",
    "    \n",
    "    if 'citations' in result and result['citations']:\n",
    "        print(f\"\\n🔗 Citations ({len(result['citations'])}):\")\n",
    "        for i, citation in enumerate(result['citations'], 1):\n",
    "            print(f\"{i}. {citation.get('title', 'No title')} - {citation.get('url', 'No URL')}\")\n",
    "    \n",
    "    return result"
   ]
  },
  {
   "cell_type": "code",
   "execution_count": 3,
   "id": "c68a3bd7",
   "metadata": {},
   "outputs": [],
   "source": [
    "query = \"Search for the most recent (July 2025) authoritative lists or databases showing YouTube videos ranked by total views, including exact view counts\""
   ]
  },
  {
   "cell_type": "code",
   "execution_count": 4,
   "id": "eb10ad5d",
   "metadata": {},
   "outputs": [
    {
     "name": "stderr",
     "output_type": "stream",
     "text": [
      "\u001b[32m2025-07-10 12:16:21.440\u001b[0m | \u001b[1mINFO    \u001b[0m | \u001b[36msrc.sentientresearchagent.hierarchical_agent_framework.agents.definitions.custom_searchers\u001b[0m:\u001b[36m__init__\u001b[0m:\u001b[36m116\u001b[0m - \u001b[1m🔍 DEBUG: OPENAI_API_KEY from os.getenv: sk-proj-ye...QH4A\u001b[0m\n",
      "\u001b[32m2025-07-10 12:16:21.440\u001b[0m | \u001b[1mINFO    \u001b[0m | \u001b[36msrc.sentientresearchagent.hierarchical_agent_framework.agents.definitions.custom_searchers\u001b[0m:\u001b[36m__init__\u001b[0m:\u001b[36m121\u001b[0m - \u001b[1m🔍 DEBUG: Found env var OPENAI_API_KEY: sk-proj-ye...QH4A\u001b[0m\n",
      "\u001b[32m2025-07-10 12:16:21.445\u001b[0m | \u001b[1mINFO    \u001b[0m | \u001b[36msrc.sentientresearchagent.hierarchical_agent_framework.agents.definitions.custom_searchers\u001b[0m:\u001b[36m__init__\u001b[0m:\u001b[36m129\u001b[0m - \u001b[1mInitialized OpenAICustomSearchAdapter with model: gpt-4o (API key: sk-proj-ye...QH4A)\u001b[0m\n",
      "\u001b[32m2025-07-10 12:16:21.445\u001b[0m | \u001b[1mINFO    \u001b[0m | \u001b[36msrc.sentientresearchagent.hierarchical_agent_framework.agents.definitions.custom_searchers\u001b[0m:\u001b[36mprocess\u001b[0m:\u001b[36m141\u001b[0m - \u001b[1m  Adapter 'OpenAICustomSearchAdapter': Processing node 3bb78ec7-b792-4232-8fad-5fa20cca91f8 (Query: 'Search for the most recent (July 2025) authoritative lists or databases showing YouTube videos ranke...') with OpenAI model gpt-4o\u001b[0m\n",
      "\u001b[32m2025-07-10 12:16:21.445\u001b[0m | \u001b[1mINFO    \u001b[0m | \u001b[36msrc.sentientresearchagent.hierarchical_agent_framework.tracing.manager\u001b[0m:\u001b[36mget_trace_for_node\u001b[0m:\u001b[36m67\u001b[0m - \u001b[1m🔍 TRACE: No in-memory trace for node 3bb78ec7-b792-4232-8fad-5fa20cca91f8, checking disk...\u001b[0m\n",
      "\u001b[32m2025-07-10 12:16:21.445\u001b[0m | \u001b[33m\u001b[1mWARNING \u001b[0m | \u001b[36msrc.sentientresearchagent.hierarchical_agent_framework.tracing.manager\u001b[0m:\u001b[36mget_trace_for_node\u001b[0m:\u001b[36m76\u001b[0m - \u001b[33m\u001b[1m🔍 TRACE: No trace found for node 3bb78ec7-b792-4232-8fad-5fa20cca91f8 (in-memory or disk)\u001b[0m\n",
      "\u001b[32m2025-07-10 12:16:21.445\u001b[0m | \u001b[1mINFO    \u001b[0m | \u001b[36msrc.sentientresearchagent.hierarchical_agent_framework.tracing.manager\u001b[0m:\u001b[36mget_trace_for_node\u001b[0m:\u001b[36m77\u001b[0m - \u001b[1m🔍 TRACE: Current in-memory traces: []\u001b[0m\n",
      "\u001b[32m2025-07-10 12:16:21.446\u001b[0m | \u001b[1mINFO    \u001b[0m | \u001b[36msrc.sentientresearchagent.hierarchical_agent_framework.tracing.manager\u001b[0m:\u001b[36mstart_stage\u001b[0m:\u001b[36m84\u001b[0m - \u001b[1m🔍 TRACE: No trace found for node 3bb78ec7-b792-4232-8fad-5fa20cca91f8, creating one\u001b[0m\n",
      "\u001b[32m2025-07-10 12:16:21.446\u001b[0m | \u001b[1mINFO    \u001b[0m | \u001b[36msrc.sentientresearchagent.hierarchical_agent_framework.tracing.manager\u001b[0m:\u001b[36mget_trace_for_node\u001b[0m:\u001b[36m67\u001b[0m - \u001b[1m🔍 TRACE: No in-memory trace for node 3bb78ec7-b792-4232-8fad-5fa20cca91f8, checking disk...\u001b[0m\n",
      "\u001b[32m2025-07-10 12:16:21.446\u001b[0m | \u001b[33m\u001b[1mWARNING \u001b[0m | \u001b[36msrc.sentientresearchagent.hierarchical_agent_framework.tracing.manager\u001b[0m:\u001b[36mget_trace_for_node\u001b[0m:\u001b[36m76\u001b[0m - \u001b[33m\u001b[1m🔍 TRACE: No trace found for node 3bb78ec7-b792-4232-8fad-5fa20cca91f8 (in-memory or disk)\u001b[0m\n",
      "\u001b[32m2025-07-10 12:16:21.446\u001b[0m | \u001b[1mINFO    \u001b[0m | \u001b[36msrc.sentientresearchagent.hierarchical_agent_framework.tracing.manager\u001b[0m:\u001b[36mget_trace_for_node\u001b[0m:\u001b[36m77\u001b[0m - \u001b[1m🔍 TRACE: Current in-memory traces: []\u001b[0m\n",
      "\u001b[32m2025-07-10 12:16:21.446\u001b[0m | \u001b[1mINFO    \u001b[0m | \u001b[36msrc.sentientresearchagent.hierarchical_agent_framework.tracing.manager\u001b[0m:\u001b[36mcreate_trace\u001b[0m:\u001b[36m47\u001b[0m - \u001b[1m🔍 TRACE: Created processing trace 38e87e8c-4cae-4af1-971c-01e2e7773628 for node 3bb78ec7-b792-4232-8fad-5fa20cca91f8\u001b[0m\n",
      "\u001b[32m2025-07-10 12:16:21.446\u001b[0m | \u001b[1mINFO    \u001b[0m | \u001b[36msrc.sentientresearchagent.hierarchical_agent_framework.tracing.manager\u001b[0m:\u001b[36mstart_stage\u001b[0m:\u001b[36m88\u001b[0m - \u001b[1m🔍 TRACE: Started stage 'execution' for node 3bb78ec7-b792-4232-8fad-5fa20cca91f8 (stage_id: 2324a351-e2b5-4679-952e-6bd092c7542d)\u001b[0m\n",
      "\u001b[32m2025-07-10 12:16:21.447\u001b[0m | \u001b[34m\u001b[1mDEBUG   \u001b[0m | \u001b[36msrc.sentientresearchagent.hierarchical_agent_framework.tracing.manager\u001b[0m:\u001b[36m_save_trace_to_disk\u001b[0m:\u001b[36m177\u001b[0m - \u001b[34m\u001b[1m🔍 TRACE: Saved trace for node 3bb78ec7-b792-4232-8fad-5fa20cca91f8 to disk\u001b[0m\n"
     ]
    },
    {
     "name": "stdout",
     "output_type": "stream",
     "text": [
      "\n",
      "🔍 Testing OpenAI Searcher\n",
      "Query: Search for the most recent (July 2025) authoritative lists or databases showing YouTube videos ranked by total views, including exact view counts\n",
      "\n"
     ]
    },
    {
     "name": "stderr",
     "output_type": "stream",
     "text": [
      "\u001b[32m2025-07-10 12:16:38.120\u001b[0m | \u001b[32m\u001b[1mSUCCESS \u001b[0m | \u001b[36msrc.sentientresearchagent.hierarchical_agent_framework.agents.definitions.custom_searchers\u001b[0m:\u001b[36mprocess\u001b[0m:\u001b[36m217\u001b[0m - \u001b[32m\u001b[1m    OpenAICustomSearchAdapter: Retrieved 'output_text' (length: 5206).\u001b[0m\n",
      "\u001b[32m2025-07-10 12:16:38.120\u001b[0m | \u001b[32m\u001b[1mSUCCESS \u001b[0m | \u001b[36msrc.sentientresearchagent.hierarchical_agent_framework.agents.definitions.custom_searchers\u001b[0m:\u001b[36mprocess\u001b[0m:\u001b[36m235\u001b[0m - \u001b[32m\u001b[1m    OpenAICustomSearchAdapter: Retrieved nested 'text_content' (length: 5206).\u001b[0m\n",
      "\u001b[32m2025-07-10 12:16:38.121\u001b[0m | \u001b[32m\u001b[1mSUCCESS \u001b[0m | \u001b[36msrc.sentientresearchagent.hierarchical_agent_framework.agents.definitions.custom_searchers\u001b[0m:\u001b[36mprocess\u001b[0m:\u001b[36m256\u001b[0m - \u001b[32m\u001b[1m    OpenAICustomSearchAdapter: Retrieved 1 nested 'annotations'.\u001b[0m\n",
      "\u001b[32m2025-07-10 12:16:38.121\u001b[0m | \u001b[32m\u001b[1mSUCCESS \u001b[0m | \u001b[36msrc.sentientresearchagent.hierarchical_agent_framework.agents.definitions.custom_searchers\u001b[0m:\u001b[36mprocess\u001b[0m:\u001b[36m279\u001b[0m - \u001b[32m\u001b[1m  Adapter 'OpenAICustomSearchAdapter': Processed. Main output: 'As of June 1, 2025, the top 30 most-viewed YouTube videos are as follows:\n",
      "\n",
      "| Rank | Video Name                                      | Uploader        ...', Annotations: 1\u001b[0m\n",
      "\u001b[32m2025-07-10 12:16:38.121\u001b[0m | \u001b[1mINFO    \u001b[0m | \u001b[36msrc.sentientresearchagent.hierarchical_agent_framework.tracing.manager\u001b[0m:\u001b[36mget_trace_for_node\u001b[0m:\u001b[36m61\u001b[0m - \u001b[1m🔍 TRACE: Retrieved in-memory trace for node 3bb78ec7-b792-4232-8fad-5fa20cca91f8: 1 stages\u001b[0m\n",
      "\u001b[32m2025-07-10 12:16:38.122\u001b[0m | \u001b[1mINFO    \u001b[0m | \u001b[36msrc.sentientresearchagent.hierarchical_agent_framework.tracing.manager\u001b[0m:\u001b[36mupdate_stage\u001b[0m:\u001b[36m131\u001b[0m - \u001b[1m🔍 TRACE: Updated stage 'execution' for node 3bb78ec7-b792-4232-8fad-5fa20cca91f8 with ['llm_response']\u001b[0m\n",
      "\u001b[32m2025-07-10 12:16:38.122\u001b[0m | \u001b[34m\u001b[1mDEBUG   \u001b[0m | \u001b[36msrc.sentientresearchagent.hierarchical_agent_framework.tracing.manager\u001b[0m:\u001b[36m_save_trace_to_disk\u001b[0m:\u001b[36m177\u001b[0m - \u001b[34m\u001b[1m🔍 TRACE: Saved trace for node 3bb78ec7-b792-4232-8fad-5fa20cca91f8 to disk\u001b[0m\n",
      "\u001b[32m2025-07-10 12:16:38.123\u001b[0m | \u001b[1mINFO    \u001b[0m | \u001b[36msrc.sentientresearchagent.hierarchical_agent_framework.tracing.manager\u001b[0m:\u001b[36mget_trace_for_node\u001b[0m:\u001b[36m61\u001b[0m - \u001b[1m🔍 TRACE: Retrieved in-memory trace for node 3bb78ec7-b792-4232-8fad-5fa20cca91f8: 1 stages\u001b[0m\n",
      "\u001b[32m2025-07-10 12:16:38.123\u001b[0m | \u001b[1mINFO    \u001b[0m | \u001b[36msrc.sentientresearchagent.hierarchical_agent_framework.tracing.manager\u001b[0m:\u001b[36mcomplete_stage\u001b[0m:\u001b[36m105\u001b[0m - \u001b[1m🔍 TRACE: Completed stage 'execution' for node 3bb78ec7-b792-4232-8fad-5fa20cca91f8\u001b[0m\n",
      "\u001b[32m2025-07-10 12:16:38.124\u001b[0m | \u001b[34m\u001b[1mDEBUG   \u001b[0m | \u001b[36msrc.sentientresearchagent.hierarchical_agent_framework.tracing.manager\u001b[0m:\u001b[36m_save_trace_to_disk\u001b[0m:\u001b[36m177\u001b[0m - \u001b[34m\u001b[1m🔍 TRACE: Saved trace for node 3bb78ec7-b792-4232-8fad-5fa20cca91f8 to disk\u001b[0m\n"
     ]
    },
    {
     "name": "stdout",
     "output_type": "stream",
     "text": [
      "📊 Results:\n",
      "--------------------------------------------------------------------------------\n",
      "As of June 1, 2025, the top 30 most-viewed YouTube videos are as follows:\n",
      "\n",
      "| Rank | Video Name                                      | Uploader                                           | Views (billions) | Date Published | Notes |\n",
      "|------|-------------------------------------------------|----------------------------------------------------|------------------|----------------|-------|\n",
      "| 1    | Baby Shark Dance                                | Pinkfong Baby Shark - Kids' Songs & Stories        | 16               | June 17, 2016  |       |\n",
      "| 2    | Despacito                                       | Luis Fonsi                                         | 8.73             | January 12, 2017 |       |\n",
      "| 3    | Wheels on the Bus                               | Cocomelon - Nursery Rhymes                         | 7.55             | May 24, 2018   |       |\n",
      "| 4    | Bath Song                                       | Cocomelon - Nursery Rhymes                         | 7.12             | May 2, 2018    |       |\n",
      "| 5    | Johny Johny Yes Papa                            | LooLoo Kids - Nursery Rhymes and Children's Songs  | 7.06             | October 8, 2016 |       |\n",
      "| 6    | See You Again                                   | Wiz Khalifa                                        | 6.68             | April 6, 2015  |       |\n",
      "| 7    | Shape of You                                    | Ed Sheeran                                         | 6.47             | January 30, 2017 |       |\n",
      "| 8    | Phonics Song with Two Words                     | ChuChu TV Nursery Rhymes & Kids Songs              | 6.49             | March 6, 2014  |       |\n",
      "| 9    | Gangnam Style                                   | Psy                                                | 5.59             | July 15, 2012  |       |\n",
      "| 10   | Uptown Funk                                     | Mark Ronson                                        | 5.57             | November 19, 2014 |       |\n",
      "| 11   | Learning Colors – Colorful Eggs on a Farm       | Miroshka TV                                        | 5.27             | February 27, 2018 |       |\n",
      "| 12   | Axel F                                          | Crazy Frog                                         | 5.24             | June 16, 2009  |       |\n",
      "| 13   | Dame Tu Cosita                                  | Ultra Records                                      | 5.06             | April 5, 2018  |       |\n",
      "| 14   | Masha and the Bear – Recipe for Disaster        | Get Movies                                         | 4.64             | January 31, 2012 |       |\n",
      "| 15   | Shree Hanuman Chalisa                           | T-Series Bhakti Sagar                              | 4.63             | May 10, 2011   |       |\n",
      "| 16   | Baa Baa Black Sheep                             | Cocomelon - Nursery Rhymes                         | 4.49             | June 25, 2018  |       |\n",
      "| 17   | Lakdi Ki Kathi                                  | Jingle Toons                                       | 4.43             | June 14, 2018  |       |\n",
      "| 18   | Waka Waka (This Time for Africa)                | Shakira                                            | 4.24             | June 4, 2010   |       |\n",
      "| 19   | Sugar                                           | Maroon 5                                           | 4.24             | January 14, 2015 |       |\n",
      "| 20   | Counting Stars                                  | OneRepublic                                        | 4.17             | May 31, 2013   |       |\n",
      "| 21   | Humpty the train on a fruits ride               | Kiddiestv Hindi - Nursery Rhymes & Kids Songs      | 4.15             | January 26, 2018 |       |\n",
      "| 22   | Roar                                            | Katy Perry                                         | 4.16             | September 5, 2013 |       |\n",
      "| 23   | Dark Horse                                      | Katy Perry                                         | 4.00             | February 20, 2014 |       |\n",
      "| 24   | Sorry                                           | Justin Bieber                                      | 3.97             | October 22, 2015 |       |\n",
      "| 25   | Perfect                                         | Ed Sheeran                                         | 3.95             | November 9, 2017 |       |\n",
      "| 26   | Baby Shark                                      | Cocomelon - Nursery Rhymes                         | 3.91             | November 21, 2017 |       |\n",
      "| 27   | Thinking Out Loud                               | Ed Sheeran                                         | 3.89             | October 7, 2014 |       |\n",
      "| 28   | Girls Like You                                  | Maroon 5                                           | 3.83             | May 31, 2018   |       |\n",
      "| 29   | Let Her Go                                      | Passenger                                          | 3.83             | July 25, 2012  |       |\n",
      "| 30   | Faded                                           | Alan Walker                                        | 3.82             | December 3, 2015 |       |\n",
      "\n",
      "([en.wikipedia.org](https://en.wikipedia.org/wiki/List_of_most-viewed_YouTube_videos?utm_source=openai)) \n",
      "--------------------------------------------------------------------------------\n",
      "\n",
      "🔗 Citations (1):\n",
      "1. List of most-viewed YouTube videos - https://en.wikipedia.org/wiki/List_of_most-viewed_YouTube_videos?utm_source=openai\n"
     ]
    },
    {
     "data": {
      "text/plain": [
       "{'query_used': 'Search for the most recent (July 2025) authoritative lists or databases showing YouTube videos ranked by total views, including exact view counts',\n",
       " 'output_text': \"As of June 1, 2025, the top 30 most-viewed YouTube videos are as follows:\\n\\n| Rank | Video Name                                      | Uploader                                           | Views (billions) | Date Published | Notes |\\n|------|-------------------------------------------------|----------------------------------------------------|------------------|----------------|-------|\\n| 1    | Baby Shark Dance                                | Pinkfong Baby Shark - Kids' Songs & Stories        | 16               | June 17, 2016  |       |\\n| 2    | Despacito                                       | Luis Fonsi                                         | 8.73             | January 12, 2017 |       |\\n| 3    | Wheels on the Bus                               | Cocomelon - Nursery Rhymes                         | 7.55             | May 24, 2018   |       |\\n| 4    | Bath Song                                       | Cocomelon - Nursery Rhymes                         | 7.12             | May 2, 2018    |       |\\n| 5    | Johny Johny Yes Papa                            | LooLoo Kids - Nursery Rhymes and Children's Songs  | 7.06             | October 8, 2016 |       |\\n| 6    | See You Again                                   | Wiz Khalifa                                        | 6.68             | April 6, 2015  |       |\\n| 7    | Shape of You                                    | Ed Sheeran                                         | 6.47             | January 30, 2017 |       |\\n| 8    | Phonics Song with Two Words                     | ChuChu TV Nursery Rhymes & Kids Songs              | 6.49             | March 6, 2014  |       |\\n| 9    | Gangnam Style                                   | Psy                                                | 5.59             | July 15, 2012  |       |\\n| 10   | Uptown Funk                                     | Mark Ronson                                        | 5.57             | November 19, 2014 |       |\\n| 11   | Learning Colors – Colorful Eggs on a Farm       | Miroshka TV                                        | 5.27             | February 27, 2018 |       |\\n| 12   | Axel F                                          | Crazy Frog                                         | 5.24             | June 16, 2009  |       |\\n| 13   | Dame Tu Cosita                                  | Ultra Records                                      | 5.06             | April 5, 2018  |       |\\n| 14   | Masha and the Bear – Recipe for Disaster        | Get Movies                                         | 4.64             | January 31, 2012 |       |\\n| 15   | Shree Hanuman Chalisa                           | T-Series Bhakti Sagar                              | 4.63             | May 10, 2011   |       |\\n| 16   | Baa Baa Black Sheep                             | Cocomelon - Nursery Rhymes                         | 4.49             | June 25, 2018  |       |\\n| 17   | Lakdi Ki Kathi                                  | Jingle Toons                                       | 4.43             | June 14, 2018  |       |\\n| 18   | Waka Waka (This Time for Africa)                | Shakira                                            | 4.24             | June 4, 2010   |       |\\n| 19   | Sugar                                           | Maroon 5                                           | 4.24             | January 14, 2015 |       |\\n| 20   | Counting Stars                                  | OneRepublic                                        | 4.17             | May 31, 2013   |       |\\n| 21   | Humpty the train on a fruits ride               | Kiddiestv Hindi - Nursery Rhymes & Kids Songs      | 4.15             | January 26, 2018 |       |\\n| 22   | Roar                                            | Katy Perry                                         | 4.16             | September 5, 2013 |       |\\n| 23   | Dark Horse                                      | Katy Perry                                         | 4.00             | February 20, 2014 |       |\\n| 24   | Sorry                                           | Justin Bieber                                      | 3.97             | October 22, 2015 |       |\\n| 25   | Perfect                                         | Ed Sheeran                                         | 3.95             | November 9, 2017 |       |\\n| 26   | Baby Shark                                      | Cocomelon - Nursery Rhymes                         | 3.91             | November 21, 2017 |       |\\n| 27   | Thinking Out Loud                               | Ed Sheeran                                         | 3.89             | October 7, 2014 |       |\\n| 28   | Girls Like You                                  | Maroon 5                                           | 3.83             | May 31, 2018   |       |\\n| 29   | Let Her Go                                      | Passenger                                          | 3.83             | July 25, 2012  |       |\\n| 30   | Faded                                           | Alan Walker                                        | 3.82             | December 3, 2015 |       |\\n\\n([en.wikipedia.org](https://en.wikipedia.org/wiki/List_of_most-viewed_YouTube_videos?utm_source=openai)) \",\n",
       " 'citations': [{'title': 'List of most-viewed YouTube videos',\n",
       "   'url': 'https://en.wikipedia.org/wiki/List_of_most-viewed_YouTube_videos?utm_source=openai',\n",
       "   'start_index': 5101,\n",
       "   'end_index': 5205,\n",
       "   'type': 'url_citation'}]}"
      ]
     },
     "execution_count": 4,
     "metadata": {},
     "output_type": "execute_result"
    }
   ],
   "source": [
    "await test_openai_searcher(query)"
   ]
  },
  {
   "cell_type": "code",
   "execution_count": null,
   "id": "c298b1c8",
   "metadata": {},
   "outputs": [],
   "source": []
  }
 ],
 "metadata": {
  "kernelspec": {
   "display_name": ".venv",
   "language": "python",
   "name": "python3"
  },
  "language_info": {
   "codemirror_mode": {
    "name": "ipython",
    "version": 3
   },
   "file_extension": ".py",
   "mimetype": "text/x-python",
   "name": "python",
   "nbconvert_exporter": "python",
   "pygments_lexer": "ipython3",
   "version": "3.12.9"
  }
 },
 "nbformat": 4,
 "nbformat_minor": 5
}
