{
 "cells": [
  {
   "cell_type": "code",
   "execution_count": 1,
   "metadata": {},
   "outputs": [
    {
     "name": "stdout",
     "output_type": "stream",
     "text": [
      "--- Loading Framework Components ---\n",
      "Defined: simple_test_planner_agno_agent\n",
      "Executing agents/__init__.py: Setting up and registering agents...\n",
      "AgentRegistry: Registered adapter 'PlannerAdapter' for action 'plan', task_type 'WRITE'\n",
      "AgentRegistry: Registered adapter 'PlannerAdapter' for action 'plan', task_type 'THINK'\n",
      "AgentRegistry: Registered adapter 'PlannerAdapter' for action 'plan', task_type 'SEARCH'\n",
      "AgentRegistry: Registered adapter 'PlannerAdapter' with name 'default_planner'\n",
      "AgentRegistry: Registered adapter 'PlannerAdapter' with name 'SimpleTestPlanner'\n",
      "AGENT_REGISTRY populated: 3 entries.\n",
      "NAMED_AGENTS populated: 2 entries.\n",
      "Imported agents package successfully (triggered registration).\n",
      "Agent Registry Keys: [('plan', <TaskType.WRITE: 'WRITE'>), ('plan', <TaskType.THINK: 'THINK'>), ('plan', <TaskType.SEARCH: 'SEARCH'>)]\n",
      "Named Agents: ['default_planner', 'SimpleTestPlanner']\n",
      "\n",
      "--- Initializing Framework ---\n"
     ]
    }
   ],
   "source": [
    "import os\n",
    "from dotenv import load_dotenv\n",
    "\n",
    "# Load environment variables (e.g., API keys for LLMs)\n",
    "# Needs: pip install python-dotenv\n",
    "load_dotenv() \n",
    "\n",
    "print(\"--- Loading Framework Components ---\")\n",
    "\n",
    "# Import necessary framework components\n",
    "from sentientresearchagent.hierarchical_agent_framework.graph.task_graph import TaskGraph\n",
    "from sentientresearchagent.hierarchical_agent_framework.graph.state_manager import StateManager\n",
    "from sentientresearchagent.hierarchical_agent_framework.graph.execution_engine import ExecutionEngine\n",
    "from sentientresearchagent.hierarchical_agent_framework.node.node_processor import NodeProcessor\n",
    "from sentientresearchagent.hierarchical_agent_framework.context.knowledge_store import KnowledgeStore\n",
    "# Assuming context_builder.py with resolve_context_for_agent exists\n",
    "from sentientresearchagent. hierarchical_agent_framework.context.context_builder import resolve_context_for_agent \n",
    "\n",
    "# Import the agents package to trigger registration in agents/__init__.py\n",
    "# This is crucial for populating AGENT_REGISTRY and NAMED_AGENTS\n",
    "try:\n",
    "    import sentientresearchagent.hierarchical_agent_framework.agents\n",
    "    print(\"Imported agents package successfully (triggered registration).\")\n",
    "    # You could optionally check here if the registry was populated:\n",
    "    from sentientresearchagent.hierarchical_agent_framework.agents.registry import AGENT_REGISTRY, NAMED_AGENTS\n",
    "    if not AGENT_REGISTRY and not NAMED_AGENTS:\n",
    "         print(\"\\nWARNING: Agent registries appear empty after import. Check agents/__init__.py setup.\\n\")\n",
    "    else:\n",
    "         print(f\"Agent Registry Keys: {list(AGENT_REGISTRY.keys())}\")\n",
    "         print(f\"Named Agents: {list(NAMED_AGENTS.keys())}\")\n",
    "\n",
    "except ImportError as e:\n",
    "    print(f\"\\nERROR: Failed to import agents package: {e}\")\n",
    "    print(\"Please ensure agents/__init__.py and agent definitions/adapters exist and are correct.\")\n",
    "    exit(1)\n",
    "except Exception as e:\n",
    "    print(f\"\\nERROR: An unexpected error occurred during agent import/setup: {e}\")\n",
    "    exit(1)\n",
    "\n",
    "\n",
    "print(\"\\n--- Initializing Framework ---\")"
   ]
  },
  {
   "cell_type": "code",
   "execution_count": 2,
   "metadata": {},
   "outputs": [
    {
     "name": "stdout",
     "output_type": "stream",
     "text": [
      "NodeProcessor initialized.\n",
      "\n",
      "--- Starting Test Execution ---\n"
     ]
    }
   ],
   "source": [
    "# Instantiate core components\n",
    "task_graph = TaskGraph()\n",
    "knowledge_store = KnowledgeStore()\n",
    "state_manager = StateManager(task_graph)\n",
    "node_processor = NodeProcessor() # NodeProcessor is currently stateless\n",
    "\n",
    "# Instantiate the execution engine\n",
    "execution_engine = ExecutionEngine(\n",
    "    task_graph=task_graph,\n",
    "    node_processor=node_processor,\n",
    "    state_manager=state_manager,\n",
    "    knowledge_store=knowledge_store\n",
    ")\n",
    "\n",
    "print(\"\\n--- Starting Test Execution ---\")"
   ]
  },
  {
   "cell_type": "code",
   "execution_count": 3,
   "metadata": {},
   "outputs": [
    {
     "name": "stdout",
     "output_type": "stream",
     "text": [
      "TaskGraph: Added graph 'root_graph'. Is root: True\n",
      "TaskGraph: Added node 'root' to graph 'root_graph'.\n",
      "KnowledgeStore: Added/Updated record for root\n",
      "\u001b[92mCONSOLE LOG: Initialized with root node: root in graph root_graph\u001b[0m\n"
     ]
    }
   ],
   "source": [
    "# Define the root goal for the project\n",
    "# project_goal = \"Write a comprehensive report on the future of renewable energy.\"\n",
    "project_goal = \"Develop a short plan for writing a blog post about the benefits of remote work.\" # Simpler for testing\n",
    "\n",
    "# Initialize the project with the root goal\n",
    "# The 'default_planner' name should match one registered in agents/__init__.py\n",
    "execution_engine.initialize_project(\n",
    "    root_goal=project_goal,\n",
    "    initial_agent_name=\"default_planner\" \n",
    ")"
   ]
  },
  {
   "cell_type": "code",
   "execution_count": 4,
   "metadata": {},
   "outputs": [
    {
     "name": "stdout",
     "output_type": "stream",
     "text": [
      "\u001b[96mCONSOLE LOG: \n",
      "--- Starting Execution Cycle ---\u001b[0m\n",
      "\u001b[96m\n",
      "CONSOLE LOG: --- Step 1 of 10 ---\u001b[0m\n",
      "Task root status updated to TaskStatus.READY. Result: None..., Error: None\n",
      "KnowledgeStore: Added/Updated record for root\n",
      "\u001b[92m  Transition: Node root PENDING -> READY\u001b[0m\n",
      "\u001b[93m  Processing Node: root (Status: READY, Layer: 0)\u001b[0m\n",
      "\u001b[96mNodeProcessor: Received node root with status READY\u001b[0m\n",
      "\u001b[93m  NodeProcessor: Handling READY node root (Type: PLAN, Goal: 'Develop a short plan for writi...')\u001b[0m\n",
      "Task root status updated to TaskStatus.RUNNING. Result: None..., Error: None\n",
      "KnowledgeStore: Added/Updated record for root\n",
      "\u001b[96mContextBuilder: Resolving context for task 'root' (Agent: default_planner, Type: WRITE)\u001b[0m\n",
      "\u001b[93mContextBuilder: No relevant context items found for task 'root'.\u001b[0m\n",
      "DEBUG: About to create AgentTaskInput. current_task_type variable value: 'WRITE'\n",
      "AgentRegistry: Found adapter 'PlannerAdapter' by name 'default_planner' for node root.\n",
      "\u001b[96m    NodeProcessor: Invoking PLAN adapter 'PlannerAdapter' for root\u001b[0m\n",
      "\u001b[96m  Adapter 'SimpleTestPlanner': Processing node root (Goal: 'Develop a short plan for writing a blog post about...')\u001b[0m\n",
      "\u001b[92m  PlannerAdapter: Successfully received PlanOutput with 3 sub-tasks from agent 'SimpleTestPlanner' for node root.\u001b[0m\n",
      "TaskGraph: Added graph 'subgraph_root'. Is root: False\n",
      "\u001b[96m    NodeProcessor: Created new subgraph 'subgraph_root' for parent 'root'\u001b[0m\n",
      "TaskGraph: Added node 'root.1' to graph 'subgraph_root'.\n",
      "KnowledgeStore: Added/Updated record for root.1\n",
      "\u001b[92m      Added sub-node: goal='Break down the current task into 1-3 logical sub-tasks' task_type='THINK' node_type='EXECUTE' task_id='root.1' layer=1 parent_node_id='root' agent_name='Task Analyzer' status=<TaskStatus.PENDING: 'PENDING'> result=None error=None sub_graph_id=None input_payload_dict=None output_type_description=None timestamp_created=datetime.datetime(2025, 5, 12, 21, 36, 24, 456707) timestamp_updated=datetime.datetime(2025, 5, 12, 21, 36, 24, 456713) timestamp_completed=None planned_sub_task_ids=[] to graph subgraph_root\u001b[0m\n",
      "TaskGraph: Added node 'root.2' to graph 'subgraph_root'.\n",
      "KnowledgeStore: Added/Updated record for root.2\n",
      "\u001b[92m      Added sub-node: goal='Define appropriate task_type and node_type for each sub-task' task_type='THINK' node_type='EXECUTE' task_id='root.2' layer=1 parent_node_id='root' agent_name='Task Classifier' status=<TaskStatus.PENDING: 'PENDING'> result=None error=None sub_graph_id=None input_payload_dict=None output_type_description=None timestamp_created=datetime.datetime(2025, 5, 12, 21, 36, 24, 456812) timestamp_updated=datetime.datetime(2025, 5, 12, 21, 36, 24, 456813) timestamp_completed=None planned_sub_task_ids=[] to graph subgraph_root\u001b[0m\n",
      "TaskGraph: Added node 'root.3' to graph 'subgraph_root'.\n",
      "KnowledgeStore: Added/Updated record for root.3\n",
      "\u001b[92m      Added sub-node: goal='Structure the final output as a valid JSON following the provided schema' task_type='WRITE' node_type='EXECUTE' task_id='root.3' layer=1 parent_node_id='root' agent_name='JSON Formatter' status=<TaskStatus.PENDING: 'PENDING'> result=None error=None sub_graph_id=None input_payload_dict=None output_type_description=None timestamp_created=datetime.datetime(2025, 5, 12, 21, 36, 24, 456870) timestamp_updated=datetime.datetime(2025, 5, 12, 21, 36, 24, 456871) timestamp_completed=None planned_sub_task_ids=[] to graph subgraph_root\u001b[0m\n",
      "TaskGraph: Added edge root.1 -> root.2 in graph 'subgraph_root'.\n",
      "TaskGraph: Added edge root.2 -> root.3 in graph 'subgraph_root'.\n",
      "\u001b[96m    NodeProcessor: Created 3 sub-nodes for parent root.\u001b[0m\n",
      "Task root status updated to TaskStatus.PLAN_DONE. Result: {'sub_tasks': [{'goal': 'Break down the current ta..., Error: None\n",
      "KnowledgeStore: Added/Updated record for root\n",
      "\u001b[96m\n",
      "CONSOLE LOG: --- Step 2 of 10 ---\u001b[0m\n",
      "Task root.1 status updated to TaskStatus.READY. Result: None..., Error: None\n",
      "KnowledgeStore: Added/Updated record for root.1\n",
      "\u001b[92m  Transition: Node root.1 PENDING -> READY\u001b[0m\n",
      "\u001b[93m  Processing Node: root.1 (Status: READY, Layer: 1)\u001b[0m\n",
      "\u001b[96mNodeProcessor: Received node root.1 with status READY\u001b[0m\n",
      "\u001b[93m  NodeProcessor: Handling READY node root.1 (Type: EXECUTE, Goal: 'Break down the current task in...')\u001b[0m\n",
      "Task root.1 status updated to TaskStatus.RUNNING. Result: None..., Error: None\n",
      "KnowledgeStore: Added/Updated record for root.1\n",
      "\u001b[96mContextBuilder: Resolving context for task 'root.1' (Agent: Task Analyzer, Type: THINK)\u001b[0m\n",
      "\u001b[96m  Seeking broad context from children of ancestor 'root'\u001b[0m\n",
      "\u001b[93mContextBuilder: No relevant context items found for task 'root.1'.\u001b[0m\n",
      "DEBUG: About to create AgentTaskInput. current_task_type variable value: 'THINK'\n",
      "AgentRegistry: Agent name 'Task Analyzer' for node root.1 not found in NAMED_AGENTS. Falling back.\n",
      "AgentRegistry: No adapter found for node root.1 with key ('execute', 'THINK').\n",
      "\u001b[91m  NodeProcessor Error: Failed to process READY node root.1: No EXECUTE adapter found for node root.1 (Agent: Task Analyzer, TaskType: THINK)\u001b[0m\n",
      "Task root.1 status updated to TaskStatus.FAILED. Result: None..., Error: No EXECUTE adapter found for node root.1 (Agent: Task Analyzer, TaskType: THINK)\n",
      "KnowledgeStore: Added/Updated record for root.1\n",
      "\u001b[96m\n",
      "CONSOLE LOG: --- Step 3 of 10 ---\u001b[0m\n"
     ]
    },
    {
     "ename": "NameError",
     "evalue": "name 'NodeType' is not defined",
     "output_type": "error",
     "traceback": [
      "\u001b[31m---------------------------------------------------------------------------\u001b[39m",
      "\u001b[31mNameError\u001b[39m                                 Traceback (most recent call last)",
      "\u001b[36mCell\u001b[39m\u001b[36m \u001b[39m\u001b[32mIn[4]\u001b[39m\u001b[32m, line 1\u001b[39m\n\u001b[32m----> \u001b[39m\u001b[32m1\u001b[39m \u001b[43mexecution_engine\u001b[49m\u001b[43m.\u001b[49m\u001b[43mrun_cycle\u001b[49m\u001b[43m(\u001b[49m\u001b[43mmax_steps\u001b[49m\u001b[43m=\u001b[49m\u001b[32;43m10\u001b[39;49m\u001b[43m)\u001b[49m\n",
      "\u001b[36mFile \u001b[39m\u001b[32m~/cursor_projects/SentientResearchAgent/src/sentientresearchagent/hierarchical_agent_framework/graph/execution_engine.py:121\u001b[39m, in \u001b[36mExecutionEngine.run_cycle\u001b[39m\u001b[34m(self, max_steps)\u001b[39m\n\u001b[32m    119\u001b[39m \u001b[38;5;28;01mfor\u001b[39;00m node \u001b[38;5;129;01min\u001b[39;00m all_nodes:\n\u001b[32m    120\u001b[39m     \u001b[38;5;28;01mif\u001b[39;00m node.status == TaskStatus.PLAN_DONE: \u001b[38;5;66;03m# Only PLAN type nodes go to PLAN_DONE\u001b[39;00m\n\u001b[32m--> \u001b[39m\u001b[32m121\u001b[39m         \u001b[38;5;28;01mif\u001b[39;00m \u001b[38;5;28;43mself\u001b[39;49m\u001b[43m.\u001b[49m\u001b[43mstate_manager\u001b[49m\u001b[43m.\u001b[49m\u001b[43mcan_aggregate\u001b[49m\u001b[43m(\u001b[49m\u001b[43mnode\u001b[49m\u001b[43m)\u001b[49m:\n\u001b[32m    122\u001b[39m             node.update_status(TaskStatus.AGGREGATING)\n\u001b[32m    123\u001b[39m             \u001b[38;5;28mself\u001b[39m.knowledge_store.add_or_update_record_from_node(node) \u001b[38;5;66;03m# Update KS\u001b[39;00m\n",
      "\u001b[36mFile \u001b[39m\u001b[32m~/cursor_projects/SentientResearchAgent/src/sentientresearchagent/hierarchical_agent_framework/graph/state_manager.py:86\u001b[39m, in \u001b[36mStateManager.can_aggregate\u001b[39m\u001b[34m(self, node)\u001b[39m\n\u001b[32m     84\u001b[39m \u001b[38;5;28;01mdef\u001b[39;00m\u001b[38;5;250m \u001b[39m\u001b[34mcan_aggregate\u001b[39m(\u001b[38;5;28mself\u001b[39m, node: TaskNode) -> \u001b[38;5;28mbool\u001b[39m:\n\u001b[32m     85\u001b[39m \u001b[38;5;250m    \u001b[39m\u001b[33;03m\"\"\"Checks if a PLAN_DONE node (which is a PLAN type node) can transition to AGGREGATING.\"\"\"\u001b[39;00m\n\u001b[32m---> \u001b[39m\u001b[32m86\u001b[39m     \u001b[38;5;28;01mif\u001b[39;00m node.status != TaskStatus.PLAN_DONE \u001b[38;5;129;01mor\u001b[39;00m node.node_type != \u001b[43mNodeType\u001b[49m.PLAN: \u001b[38;5;66;03m# Ensure it's a PLAN node\u001b[39;00m\n\u001b[32m     87\u001b[39m         \u001b[38;5;28;01mreturn\u001b[39;00m \u001b[38;5;28;01mFalse\u001b[39;00m\n\u001b[32m     89\u001b[39m     \u001b[38;5;66;03m# It must have created a sub-graph where its children tasks reside\u001b[39;00m\n",
      "\u001b[31mNameError\u001b[39m: name 'NodeType' is not defined"
     ]
    }
   ],
   "source": [
    "execution_engine.run_cycle(max_steps=10)"
   ]
  },
  {
   "cell_type": "code",
   "execution_count": null,
   "metadata": {},
   "outputs": [],
   "source": []
  }
 ],
 "metadata": {
  "kernelspec": {
   "display_name": ".venv",
   "language": "python",
   "name": "python3"
  },
  "language_info": {
   "codemirror_mode": {
    "name": "ipython",
    "version": 3
   },
   "file_extension": ".py",
   "mimetype": "text/x-python",
   "name": "python",
   "nbconvert_exporter": "python",
   "pygments_lexer": "ipython3",
   "version": "3.12.9"
  }
 },
 "nbformat": 4,
 "nbformat_minor": 2
}
