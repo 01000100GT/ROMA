{
 "cells": [
  {
   "cell_type": "code",
   "execution_count": null,
   "metadata": {},
   "outputs": [],
   "source": [
    "import os\n",
    "from dotenv import load_dotenv\n",
    "\n",
    "# Load environment variables (e.g., API keys for LLMs)\n",
    "# Needs: pip install python-dotenv\n",
    "load_dotenv() \n",
    "\n",
    "print(\"--- Loading Framework Components ---\")\n",
    "\n",
    "# Import necessary framework components\n",
    "from sentientresearchagent.hierarchical_agent_framework.graph.task_graph import TaskGraph\n",
    "from sentientresearchagent.hierarchical_agent_framework.graph.state_manager import StateManager\n",
    "from sentientresearchagent.hierarchical_agent_framework.graph.execution_engine import ExecutionEngine\n",
    "from sentientresearchagent.hierarchical_agent_framework.node.node_processor import NodeProcessor\n",
    "from sentientresearchagent.hierarchical_agent_framework.context.knowledge_store import KnowledgeStore\n",
    "# Assuming context_builder.py with resolve_context_for_agent exists\n",
    "from sentientresearchagent. hierarchical_agent_framework.context.context_builder import resolve_context_for_agent \n",
    "\n",
    "# Import the agents package to trigger registration in agents/__init__.py\n",
    "# This is crucial for populating AGENT_REGISTRY and NAMED_AGENTS\n",
    "try:\n",
    "    import sentientresearchagent.hierarchical_agent_framework.agents\n",
    "    print(\"Imported agents package successfully (triggered registration).\")\n",
    "    # You could optionally check here if the registry was populated:\n",
    "    from sentientresearchagent.hierarchical_agent_framework.agents.registry import AGENT_REGISTRY, NAMED_AGENTS\n",
    "    if not AGENT_REGISTRY and not NAMED_AGENTS:\n",
    "         print(\"\\nWARNING: Agent registries appear empty after import. Check agents/__init__.py setup.\\n\")\n",
    "    else:\n",
    "         print(f\"Agent Registry Keys: {list(AGENT_REGISTRY.keys())}\")\n",
    "         print(f\"Named Agents: {list(NAMED_AGENTS.keys())}\")\n",
    "\n",
    "except ImportError as e:\n",
    "    print(f\"\\nERROR: Failed to import agents package: {e}\")\n",
    "    print(\"Please ensure agents/__init__.py and agent definitions/adapters exist and are correct.\")\n",
    "    exit(1)\n",
    "except Exception as e:\n",
    "    print(f\"\\nERROR: An unexpected error occurred during agent import/setup: {e}\")\n",
    "    exit(1)\n",
    "\n",
    "\n",
    "print(\"\\n--- Initializing Framework ---\")"
   ]
  },
  {
   "cell_type": "code",
   "execution_count": null,
   "metadata": {},
   "outputs": [],
   "source": [
    "# Instantiate core components\n",
    "task_graph = TaskGraph()\n",
    "knowledge_store = KnowledgeStore()\n",
    "state_manager = StateManager(task_graph)\n",
    "node_processor = NodeProcessor() # NodeProcessor is currently stateless\n",
    "\n",
    "# Instantiate the execution engine\n",
    "execution_engine = ExecutionEngine(\n",
    "    task_graph=task_graph,\n",
    "    node_processor=node_processor,\n",
    "    state_manager=state_manager,\n",
    "    knowledge_store=knowledge_store\n",
    ")\n",
    "\n",
    "print(\"\\n--- Starting Test Execution ---\")"
   ]
  },
  {
   "cell_type": "code",
   "execution_count": null,
   "metadata": {},
   "outputs": [],
   "source": [
    "# Define the root goal for the project\n",
    "# project_goal = \"Write a comprehensive report on the future of renewable energy.\"\n",
    "project_goal = \"Develop a short plan for writing a blog post about the benefits of remote work.\" # Simpler for testing\n",
    "\n",
    "# Initialize the project with the root goal\n",
    "# The 'default_planner' name should match one registered in agents/__init__.py\n",
    "execution_engine.initialize_project(\n",
    "    root_goal=project_goal,\n",
    "    initial_agent_name=\"CoreResearchPlanner\" \n",
    ")"
   ]
  },
  {
   "cell_type": "code",
   "execution_count": null,
   "metadata": {},
   "outputs": [],
   "source": [
    "execution_engine.run_cycle(max_steps=10)"
   ]
  },
  {
   "cell_type": "code",
   "execution_count": null,
   "metadata": {},
   "outputs": [],
   "source": [
    "from sentientresearchagent.hierarchical_agent_framework.agents.definitions.custom_searchers import GeminiSearcherWrapper, OpenAISearcherWrapper, CombinedSearcherWrapper, SentientSearcherWrapper, SentientLLM"
   ]
  },
  {
   "cell_type": "code",
   "execution_count": 2,
   "metadata": {},
   "outputs": [],
   "source": [
    "output = search_executor_agno_agent.run(\"Who's the best player in the world?\")"
   ]
  },
  {
   "cell_type": "code",
   "execution_count": null,
   "metadata": {},
   "outputs": [],
   "source": [
    "print(output.content)"
   ]
  },
  {
   "cell_type": "code",
   "execution_count": null,
   "metadata": {},
   "outputs": [],
   "source": []
  }
 ],
 "metadata": {
  "kernelspec": {
   "display_name": ".venv",
   "language": "python",
   "name": "python3"
  },
  "language_info": {
   "codemirror_mode": {
    "name": "ipython",
    "version": 3
   },
   "file_extension": ".py",
   "mimetype": "text/x-python",
   "name": "python",
   "nbconvert_exporter": "python",
   "pygments_lexer": "ipython3",
   "version": "3.12.9"
  }
 },
 "nbformat": 4,
 "nbformat_minor": 2
}
