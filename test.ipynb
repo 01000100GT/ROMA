{
 "cells": [
  {
   "cell_type": "code",
   "execution_count": 1,
   "metadata": {},
   "outputs": [],
   "source": [
    "import multiprocessing\n",
    "import time\n",
    "from sentientresearchagent.framework_entry import ProfiledSentientAgent\n",
    "import traceback\n",
    "\n",
    "def run_agent_execution(query: str):\n",
    "    \"\"\"\n",
    "    A target function for each process to execute a query.\n",
    "    It creates its own agent instance in its own memory space.\n",
    "    \"\"\"\n",
    "    process_name = multiprocessing.current_process().name\n",
    "    \n",
    "    try:\n",
    "        # Each process creates its own agent instance. This guarantees\n",
    "        # that all state, including the agent registry, is completely isolated.\n",
    "        print(f\"🤖 [{process_name}] Creating a dedicated agent instance in a new process...\")\n",
    "        agent = ProfiledSentientAgent.create_with_profile(\n",
    "            profile_name=\"general_agent\",\n",
    "            enable_hitl_override=False,\n",
    "            hitl_root_plan_only_override=False,\n",
    "            hitl_root_plan_only=False,\n",
    "            max_planning_depth=3,\n",
    "            max_concurrent_tasks=10,\n",
    "        )\n",
    "        \n",
    "        print(f\"🚀 [{process_name}] Starting execution for query: '{query}'\")\n",
    "        start_time = time.time()\n",
    "\n",
    "        result = agent.execute(goal=query)\n",
    "\n",
    "        end_time = time.time()\n",
    "        print(f\"✅ [{process_name}] Finished in {end_time - start_time:.2f} seconds.\")\n",
    "\n",
    "        # In multiprocessing, returning complex objects can be tricky.\n",
    "        # For this example, we'll just print a summary.\n",
    "        final_output = result.get('final_output', 'No output generated.')\n",
    "        print(f\"📄 [{process_name}] Result for '{query}':\\n   {final_output[:200].replace('\\n', '\\n   ')}...\\n\")\n",
    "\n",
    "    except Exception as e:\n",
    "        end_time = time.time()\n",
    "        print(f\"❌ [{process_name}] An error occurred: {e}\")\n",
    "        traceback.print_exc()"
   ]
  },
  {
   "cell_type": "code",
   "execution_count": 2,
   "metadata": {},
   "outputs": [
    {
     "name": "stdout",
     "output_type": "stream",
     "text": [
      "🏁 Starting agent executions, each in its own isolated process...\n"
     ]
    },
    {
     "name": "stderr",
     "output_type": "stream",
     "text": [
      "Traceback (most recent call last):\n",
      "  File \"<string>\", line 1, in <module>\n",
      "  File \"/Users/salahalzubi/.pyenv/versions/3.12.9/lib/python3.12/multiprocessing/spawn.py\", line 122, in spawn_main\n",
      "Traceback (most recent call last):\n",
      "  File \"<string>\", line 1, in <module>\n",
      "  File \"/Users/salahalzubi/.pyenv/versions/3.12.9/lib/python3.12/multiprocessing/spawn.py\", line 122, in spawn_main\n",
      "    exitcode = _main(fd, parent_sentinel)\n",
      "               ^^    ^exitcode = _main(fd, parent_sentinel)^\n",
      "^^^^^^^^^^^^^^^^^^^^^^\n",
      "  File \"/Users/salahalzubi/.pyenv/versions/3.12.9/lib/python3.12/multiprocessing/spawn.py\", line 132, in _main\n",
      "               ^^^^^^^^^^^^^^^^^^^^^^^^^^\n",
      "  File \"/Users/salahalzubi/.pyenv/versions/3.12.9/lib/python3.12/multiprocessing/spawn.py\", line 132, in _main\n",
      "    self = reduction.pickle.load(from_parent)\n",
      "           ^^^^^^^^^^^^^^^^^^^^^^^^^^^^^^^^^^\n",
      "    self = reduction.pickle.load(from_parent)AttributeError\n",
      ": Can't get attribute 'run_agent_execution' on <module '__main__' (<class '_frozen_importlib.BuiltinImporter'>)>\n",
      "           ^^^^^^^^^^^^^^^^^^^^^^^^^^^^^^^^^^\n",
      "AttributeError: Can't get attribute 'run_agent_execution' on <module '__main__' (<class '_frozen_importlib.BuiltinImporter'>)>\n",
      "Traceback (most recent call last):\n",
      "  File \"<string>\", line 1, in <module>\n",
      "  File \"/Users/salahalzubi/.pyenv/versions/3.12.9/lib/python3.12/multiprocessing/spawn.py\", line 122, in spawn_main\n",
      "    exitcode = _main(fd, parent_sentinel)\n",
      "               ^^^^^^^^^^^^^^^^^^^^^^^^^^\n",
      "  File \"/Users/salahalzubi/.pyenv/versions/3.12.9/lib/python3.12/multiprocessing/spawn.py\", line 132, in _main\n",
      "    self = reduction.pickle.load(from_parent)\n",
      "           ^^^^^^^^^^^^^^^^^^^^^^^^^^^^^^^^^^\n",
      "AttributeError: Can't get attribute 'run_agent_execution' on <module '__main__' (<class '_frozen_importlib.BuiltinImporter'>)>\n"
     ]
    }
   ],
   "source": [
    "# A list of independent queries to be executed in parallel.\n",
    "queries = [\n",
    "    \"What are the key benefits of using asyncio in Python?\",\n",
    "    \"Provide a brief history of the city of Rome.\",\n",
    "    \"Explain the concept of quantum entanglement in simple terms.\",\n",
    "]\n",
    "\n",
    "processes = []\n",
    "\n",
    "print(\"🏁 Starting agent executions, each in its own isolated process...\")\n",
    "for i, query in enumerate(queries):\n",
    "    # Create a Process for each query.\n",
    "    process = multiprocessing.Process(\n",
    "        target=run_agent_execution,\n",
    "        args=(query,),\n",
    "        name=f\"AgentProcess-{i+1}\"\n",
    "    )\n",
    "    processes.append(process)\n",
    "    process.start() # Start the new process\n",
    "\n",
    "# Wait for all processes to complete their execution\n",
    "for process in processes:\n",
    "    process.join()"
   ]
  },
  {
   "cell_type": "code",
   "execution_count": null,
   "metadata": {},
   "outputs": [],
   "source": []
  }
 ],
 "metadata": {
  "kernelspec": {
   "display_name": ".venv",
   "language": "python",
   "name": "python3"
  },
  "language_info": {
   "codemirror_mode": {
    "name": "ipython",
    "version": 3
   },
   "file_extension": ".py",
   "mimetype": "text/x-python",
   "name": "python",
   "nbconvert_exporter": "python",
   "pygments_lexer": "ipython3",
   "version": "3.12.9"
  }
 },
 "nbformat": 4,
 "nbformat_minor": 2
}
