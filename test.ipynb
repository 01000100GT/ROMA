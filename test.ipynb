{
 "cells": [
  {
   "cell_type": "code",
   "execution_count": 1,
   "metadata": {},
   "outputs": [
    {
     "name": "stderr",
     "output_type": "stream",
     "text": [
      "\u001b[32m2025-06-09 18:49:25.162\u001b[0m | \u001b[31m\u001b[1mERROR   \u001b[0m | \u001b[36msentientresearchagent.framework_entry\u001b[0m:\u001b[36m<module>\u001b[0m:\u001b[36m49\u001b[0m - \u001b[31m\u001b[1mFramework components not available at module level: cannot import name 'TaskNode' from partially initialized module 'sentientresearchagent.hierarchical_agent_framework.node.task_node' (most likely due to a circular import) (/Users/salahalzubi/cursor_projects/SentientResearchAgent/src/sentientresearchagent/hierarchical_agent_framework/node/task_node.py)\u001b[0m\n",
      "\u001b[32m2025-06-09 18:49:25.163\u001b[0m | \u001b[1mINFO    \u001b[0m | \u001b[36msentientresearchagent.framework_entry\u001b[0m:\u001b[36mcreate_with_profile\u001b[0m:\u001b[36m537\u001b[0m - \u001b[1m🤖 Creating ProfiledSentientAgent with profile: general_agent\u001b[0m\n",
      "\u001b[32m2025-06-09 18:49:25.257\u001b[0m | \u001b[1mINFO    \u001b[0m | \u001b[36msentientresearchagent.hierarchical_agent_framework.agents\u001b[0m:\u001b[36m<module>\u001b[0m:\u001b[36m9\u001b[0m - \u001b[1m🤖 Initializing YAML-based agent system...\u001b[0m\n",
      "\u001b[32m2025-06-09 18:49:25.257\u001b[0m | \u001b[33m\u001b[1mWARNING \u001b[0m | \u001b[36msentientresearchagent.hierarchical_agent_framework.agents\u001b[0m:\u001b[36m<module>\u001b[0m:\u001b[36m42\u001b[0m - \u001b[33m\u001b[1m⚠️  Warning: No agent adapters or named agents were registered.\u001b[0m\n",
      "\u001b[32m2025-06-09 18:49:25.257\u001b[0m | \u001b[33m\u001b[1mWARNING \u001b[0m | \u001b[36msentientresearchagent.hierarchical_agent_framework.agents\u001b[0m:\u001b[36m<module>\u001b[0m:\u001b[36m43\u001b[0m - \u001b[33m\u001b[1mThe system might not find agents to process tasks.\u001b[0m\n",
      "\u001b[32m2025-06-09 18:49:26.027\u001b[0m | \u001b[1mINFO    \u001b[0m | \u001b[36msentientresearchagent.hierarchical_agent_framework.agents.definitions.utility_agents\u001b[0m:\u001b[36m<module>\u001b[0m:\u001b[36m27\u001b[0m - \u001b[1mSuccessfully initialized ContextSummarizer_Agno with model openrouter/anthropic/claude-3-7-sonnet\u001b[0m\n"
     ]
    },
    {
     "name": "stdout",
     "output_type": "stream",
     "text": [
      "DEBUG: Dynamically loaded TASK_TYPES_STR: 'WRITE', 'THINK', 'SEARCH', 'AGGREGATE', 'CODE_INTERPRET', 'IMAGE_GENERATION'\n",
      "DEBUG: Dynamically loaded NODE_TYPES_STR: 'PLAN', 'EXECUTE'\n",
      "Successfully initialized PlanModifier_Agno with model openrouter/anthropic/claude-3-7-sonnet\n"
     ]
    },
    {
     "ename": "ImportError",
     "evalue": "Framework components not available. Please install missing dependencies.",
     "output_type": "error",
     "traceback": [
      "\u001b[31m---------------------------------------------------------------------------\u001b[39m",
      "\u001b[31mImportError\u001b[39m                               Traceback (most recent call last)",
      "\u001b[36mCell\u001b[39m\u001b[36m \u001b[39m\u001b[32mIn[1]\u001b[39m\u001b[32m, line 4\u001b[39m\n\u001b[32m      1\u001b[39m \u001b[38;5;66;03m# Cell 2: Create and test agent\u001b[39;00m\n\u001b[32m      2\u001b[39m \u001b[38;5;28;01mfrom\u001b[39;00m\u001b[38;5;250m \u001b[39m\u001b[34;01msentientresearchagent\u001b[39;00m\u001b[34;01m.\u001b[39;00m\u001b[34;01mframework_entry\u001b[39;00m\u001b[38;5;250m \u001b[39m\u001b[38;5;28;01mimport\u001b[39;00m ProfiledSentientAgent\n\u001b[32m----> \u001b[39m\u001b[32m4\u001b[39m agent = \u001b[43mProfiledSentientAgent\u001b[49m\u001b[43m.\u001b[49m\u001b[43mcreate_with_profile\u001b[49m\u001b[43m(\u001b[49m\n\u001b[32m      5\u001b[39m \u001b[43m    \u001b[49m\u001b[43mprofile_name\u001b[49m\u001b[43m=\u001b[49m\u001b[33;43m\"\u001b[39;49m\u001b[33;43mgeneral_agent\u001b[39;49m\u001b[33;43m\"\u001b[39;49m\u001b[43m,\u001b[49m\n\u001b[32m      6\u001b[39m \u001b[43m    \u001b[49m\u001b[43menable_hitl_override\u001b[49m\u001b[43m=\u001b[49m\u001b[38;5;28;43;01mFalse\u001b[39;49;00m\u001b[43m,\u001b[49m\n\u001b[32m      7\u001b[39m \u001b[43m    \u001b[49m\u001b[43mhitl_root_plan_only_override\u001b[49m\u001b[43m=\u001b[49m\u001b[38;5;28;43;01mFalse\u001b[39;49;00m\u001b[43m,\u001b[49m\n\u001b[32m      8\u001b[39m \u001b[43m    \u001b[49m\u001b[43mmax_planning_depth\u001b[49m\u001b[43m=\u001b[49m\u001b[32;43m3\u001b[39;49m\u001b[43m,\u001b[49m\n\u001b[32m      9\u001b[39m \u001b[43m)\u001b[49m\n\u001b[32m     11\u001b[39m \u001b[38;5;28mprint\u001b[39m(\u001b[33m\"\u001b[39m\u001b[33m✅ Agent created successfully!\u001b[39m\u001b[33m\"\u001b[39m)\n",
      "\u001b[36mFile \u001b[39m\u001b[32m~/cursor_projects/SentientResearchAgent/src/sentientresearchagent/framework_entry.py:542\u001b[39m, in \u001b[36mProfiledSentientAgent.create_with_profile\u001b[39m\u001b[34m(cls, profile_name, enable_hitl_override, hitl_root_plan_only_override, config_path, **config_kwargs)\u001b[39m\n\u001b[32m    539\u001b[39m \u001b[38;5;66;03m# MODIFIED: Import SystemManager locally\u001b[39;00m\n\u001b[32m    540\u001b[39m \u001b[38;5;28;01mfrom\u001b[39;00m\u001b[38;5;250m \u001b[39m\u001b[34;01m.\u001b[39;00m\u001b[34;01mcore\u001b[39;00m\u001b[34;01m.\u001b[39;00m\u001b[34;01msystem_manager\u001b[39;00m\u001b[38;5;250m \u001b[39m\u001b[38;5;28;01mimport\u001b[39;00m SystemManager \u001b[38;5;28;01mas\u001b[39;00m ConcreteSystemManager\n\u001b[32m--> \u001b[39m\u001b[32m542\u001b[39m config = \u001b[43mload_unified_config\u001b[49m\u001b[43m(\u001b[49m\u001b[43mconfig_path\u001b[49m\u001b[43m)\u001b[49m\n\u001b[32m    543\u001b[39m \u001b[38;5;66;03m# ... (apply config overrides from kwargs and specific args) ...\u001b[39;00m\n\u001b[32m    545\u001b[39m system_manager = ConcreteSystemManager(config=config)\n",
      "\u001b[36mFile \u001b[39m\u001b[32m~/cursor_projects/SentientResearchAgent/src/sentientresearchagent/framework_entry.py:70\u001b[39m, in \u001b[36mload_unified_config\u001b[39m\u001b[34m(config_path)\u001b[39m\n\u001b[32m     60\u001b[39m \u001b[38;5;250m\u001b[39m\u001b[33;03m\"\"\"\u001b[39;00m\n\u001b[32m     61\u001b[39m \u001b[33;03mLoad configuration with unified approach.\u001b[39;00m\n\u001b[32m     62\u001b[39m \u001b[33;03m\u001b[39;00m\n\u001b[32m   (...)\u001b[39m\u001b[32m     67\u001b[39m \u001b[33;03m    SentientConfig instance\u001b[39;00m\n\u001b[32m     68\u001b[39m \u001b[33;03m\"\"\"\u001b[39;00m\n\u001b[32m     69\u001b[39m \u001b[38;5;28;01mif\u001b[39;00m \u001b[38;5;129;01mnot\u001b[39;00m FRAMEWORK_AVAILABLE:\n\u001b[32m---> \u001b[39m\u001b[32m70\u001b[39m     \u001b[38;5;28;01mraise\u001b[39;00m \u001b[38;5;167;01mImportError\u001b[39;00m(\u001b[33m\"\u001b[39m\u001b[33mFramework components not available. Please install missing dependencies.\u001b[39m\u001b[33m\"\u001b[39m)\n\u001b[32m     72\u001b[39m \u001b[38;5;28;01mif\u001b[39;00m config_path:\n\u001b[32m     73\u001b[39m     config_path = Path(config_path)\n",
      "\u001b[31mImportError\u001b[39m: Framework components not available. Please install missing dependencies."
     ]
    }
   ],
   "source": [
    "# Cell 2: Create and test agent\n",
    "from sentientresearchagent.framework_entry import ProfiledSentientAgent\n",
    "\n",
    "agent = ProfiledSentientAgent.create_with_profile(\n",
    "    profile_name=\"general_agent\",\n",
    "    enable_hitl_override=False,\n",
    "    hitl_root_plan_only_override=False,\n",
    "    max_planning_depth=3,\n",
    ")\n",
    "\n",
    "print(\"✅ Agent created successfully!\")"
   ]
  },
  {
   "cell_type": "code",
   "execution_count": null,
   "metadata": {},
   "outputs": [],
   "source": []
  }
 ],
 "metadata": {
  "kernelspec": {
   "display_name": ".venv",
   "language": "python",
   "name": "python3"
  },
  "language_info": {
   "codemirror_mode": {
    "name": "ipython",
    "version": 3
   },
   "file_extension": ".py",
   "mimetype": "text/x-python",
   "name": "python",
   "nbconvert_exporter": "python",
   "pygments_lexer": "ipython3",
   "version": "3.12.9"
  }
 },
 "nbformat": 4,
 "nbformat_minor": 2
}
