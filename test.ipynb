{
 "cells": [
  {
   "cell_type": "code",
   "execution_count": 1,
   "metadata": {},
   "outputs": [
    {
     "name": "stdout",
     "output_type": "stream",
     "text": [
      "--- Loading Framework Components ---\n"
     ]
    },
    {
     "name": "stderr",
     "output_type": "stream",
     "text": [
      "\u001b[32m15:03:52.107\u001b[0m | \u001b[33m\u001b[1mWARNING \u001b[0m | \u001b[36msentientresearchagent.hierarchical_agent_framework.agents.definitions.custom_searchers\u001b[0m:\u001b[36m<module>\u001b[0m:\u001b[36m13\u001b[0m - \u001b[33m\u001b[1mWarning: google.genai module not found. GeminiSearcherWrapper will not be usable.\u001b[0m\n",
      "\u001b[32m15:03:52.108\u001b[0m | \u001b[1mINFO    \u001b[0m | \u001b[36msentientresearchagent.hierarchical_agent_framework.agents\u001b[0m:\u001b[36m<module>\u001b[0m:\u001b[36m25\u001b[0m - \u001b[1mExecuting agents/__init__.py: Setting up and registering agents...\u001b[0m\n",
      "\u001b[32m15:03:52.108\u001b[0m | \u001b[1mINFO    \u001b[0m | \u001b[36msentientresearchagent.hierarchical_agent_framework.agents\u001b[0m:\u001b[36m<module>\u001b[0m:\u001b[36m99\u001b[0m - \u001b[1mDEBUG: Value of search_synthesizer_agno_agent before registration: Agent(model=LiteLLM(id='openrouter/anthropic/claude-3-7-sonnet', name='LiteLLM', provider='LiteLLM', response_format=None, structured_outputs=False, supports_native_structured_outputs=False, supports_json_schema_outputs=False, tool_choice=None, show_tool_calls=None, tool_call_limit=None, _tools=None, _functions=None, _function_call_stack=None, system_prompt=None, instructions=None, tool_message_role='tool', assistant_message_role='assistant', api_key=None, api_base=None, max_tokens=None, temperature=0.7, top_p=1.0, request_params=None, client=None), name='SearchSynthesizer_Agno', agent_id=None, introduction=None, user_id=None, session_id=None, session_name=None, session_state=None, context=None, add_context=False, resolve_context=True, memory=None, enable_agentic_memory=False, enable_user_memories=False, add_memory_references=None, enable_session_summaries=False, add_session_summary_references=None, add_history_to_messages=False, num_history_responses=None, num_history_runs=3, knowledge=None, knowledge_filters=None, enable_agentic_knowledge_filters=None, add_references=False, retriever=None, references_format='json', storage=None, extra_data=None, tools=None, show_tool_calls=True, tool_call_limit=None, tool_choice=None, tool_hooks=None, reasoning=False, reasoning_model=None, reasoning_agent=None, reasoning_min_steps=1, reasoning_max_steps=10, read_chat_history=False, search_knowledge=True, update_knowledge=False, read_tool_call_history=False, system_message=\"You are a search results synthesizer. You will be given a 'Research Goal' and 'Raw Search Results' (as context, typically from a 'SearchExecutor' agent in WebSearchResultsOutput format).\\nYour primary task is to carefully review all provided search result snippets and generate a concise, coherent text summary of the information that is most relevant to the original 'Research Goal'.\\nExtract key facts, figures, and insights. The summary should be in well-formatted markdown.\\nOutput *only* this markdown summary. Do not include any preambles or conversational text.\\n\", system_message_role='system', create_default_system_message=True, description=None, goal=None, instructions=None, expected_output=None, additional_context=None, markdown=False, add_name_to_instructions=False, add_datetime_to_instructions=False, timezone_identifier=None, add_state_in_messages=False, add_messages=None, user_message=None, user_message_role='user', create_default_user_message=True, retries=0, delay_between_retries=1, exponential_backoff=False, response_model=None, parse_response=True, structured_outputs=None, use_json_mode=False, save_response_to_file=None, stream=None, stream_intermediate_steps=False, team=None, team_data=None, role=None, respond_directly=False, add_transfer_instructions=True, team_response_separator='\\n', team_session_id=None, team_id=None, team_session_state=None, debug_mode=False, monitoring=False, telemetry=True)\u001b[0m\n",
      "\u001b[32m15:03:52.108\u001b[0m | \u001b[1mINFO    \u001b[0m | \u001b[36msentientresearchagent.hierarchical_agent_framework.agents\u001b[0m:\u001b[36m<module>\u001b[0m:\u001b[36m145\u001b[0m - \u001b[1mDEBUG: Value of default_aggregator_agno_agent before registration: Agent(model=LiteLLM(id='openrouter/anthropic/claude-3-7-sonnet', name='LiteLLM', provider='LiteLLM', response_format=None, structured_outputs=False, supports_native_structured_outputs=False, supports_json_schema_outputs=False, tool_choice=None, show_tool_calls=None, tool_call_limit=None, _tools=None, _functions=None, _function_call_stack=None, system_prompt=None, instructions=None, tool_message_role='tool', assistant_message_role='assistant', api_key=None, api_base=None, max_tokens=None, temperature=0.7, top_p=1.0, request_params=None, client=None), name='DefaultAggregator_Agno', agent_id=None, introduction=None, user_id=None, session_id=None, session_name=None, session_state=None, context=None, add_context=False, resolve_context=True, memory=None, enable_agentic_memory=False, enable_user_memories=False, add_memory_references=None, enable_session_summaries=False, add_session_summary_references=None, add_history_to_messages=False, num_history_responses=None, num_history_runs=3, knowledge=None, knowledge_filters=None, enable_agentic_knowledge_filters=None, add_references=False, retriever=None, references_format='json', storage=None, extra_data=None, tools=None, show_tool_calls=True, tool_call_limit=None, tool_choice=None, tool_hooks=None, reasoning=False, reasoning_model=None, reasoning_agent=None, reasoning_min_steps=1, reasoning_max_steps=10, read_chat_history=False, search_knowledge=True, update_knowledge=False, read_tool_call_history=False, system_message=\"You are an expert at summarizing and finalizing results.\\nYou will be provided with a 'Parent Task Goal' and 'Context from Child Tasks'.\\nThe context will contain the results from sub-tasks that were executed to achieve the parent goal.\\nYour task is to synthesize these results into a single, coherent final answer that directly addresses the 'Parent Task Goal'.\\nIf there's only one significant piece of text in the context (e.g., a final report or summary from a child task), you can present that as the final answer.\\nEnsure the output is clean and directly usable. For simple summarization tasks where a child task already produced a good summary, just output that summary.\\nDo not add conversational fluff. Only output the final synthesized answer.\\n\", system_message_role='system', create_default_system_message=True, description=None, goal=None, instructions=None, expected_output=None, additional_context=None, markdown=False, add_name_to_instructions=False, add_datetime_to_instructions=False, timezone_identifier=None, add_state_in_messages=False, add_messages=None, user_message=None, user_message_role='user', create_default_user_message=True, retries=0, delay_between_retries=1, exponential_backoff=False, response_model=None, parse_response=True, structured_outputs=None, use_json_mode=False, save_response_to_file=None, stream=None, stream_intermediate_steps=False, team=None, team_data=None, role=None, respond_directly=False, add_transfer_instructions=True, team_response_separator='\\n', team_session_id=None, team_id=None, team_session_state=None, debug_mode=False, monitoring=False, telemetry=True)\u001b[0m\n",
      "\u001b[32m15:03:52.109\u001b[0m | \u001b[1mINFO    \u001b[0m | \u001b[36msentientresearchagent.hierarchical_agent_framework.agents\u001b[0m:\u001b[36m<module>\u001b[0m:\u001b[36m165\u001b[0m - \u001b[1mRegistered adapter: DefaultAggregator for aggregation\u001b[0m\n",
      "\u001b[32m15:03:52.113\u001b[0m | \u001b[1mINFO    \u001b[0m | \u001b[36msentientresearchagent.hierarchical_agent_framework.agents\u001b[0m:\u001b[36m<module>\u001b[0m:\u001b[36m183\u001b[0m - \u001b[1mRegistered direct adapter: OpenAICustomSearchAdapter as 'OpenAICustomSearcher' AND for ('execute', SEARCH)\u001b[0m\n",
      "\u001b[32m15:03:52.114\u001b[0m | \u001b[1mINFO    \u001b[0m | \u001b[36msentientresearchagent.hierarchical_agent_framework.agents\u001b[0m:\u001b[36m<module>\u001b[0m:\u001b[36m190\u001b[0m - \u001b[1mAGENT_REGISTRY populated: 7 entries.\u001b[0m\n",
      "\u001b[32m15:03:52.114\u001b[0m | \u001b[1mINFO    \u001b[0m | \u001b[36msentientresearchagent.hierarchical_agent_framework.agents\u001b[0m:\u001b[36m<module>\u001b[0m:\u001b[36m191\u001b[0m - \u001b[1mNAMED_AGENTS populated: 8 entries.\u001b[0m\n"
     ]
    },
    {
     "name": "stdout",
     "output_type": "stream",
     "text": [
      "AgentRegistry: Registered adapter 'PlannerAdapter' for action 'plan', task_type 'WRITE'\n",
      "AgentRegistry: Registered adapter 'PlannerAdapter' for action 'plan', task_type 'THINK'\n",
      "AgentRegistry: Registered adapter 'PlannerAdapter' for action 'plan', task_type 'SEARCH'\n",
      "AgentRegistry: Registered adapter 'PlannerAdapter' with name 'default_planner'\n",
      "AgentRegistry: Registered adapter 'PlannerAdapter' with name 'SimpleTestPlanner'\n",
      "AgentRegistry: Registered adapter 'PlannerAdapter' with name 'CoreResearchPlanner'\n",
      "AgentRegistry: Registered adapter 'ExecutorAdapter' with name 'SearchExecutor'\n",
      "AgentRegistry: Registered adapter 'ExecutorAdapter' with name 'SearchSynthesizer'\n",
      "AgentRegistry: Registered adapter 'ExecutorAdapter' for action 'execute', task_type 'THINK'\n",
      "AgentRegistry: Registered adapter 'ExecutorAdapter' with name 'BasicReportWriter'\n",
      "AgentRegistry: Registered adapter 'ExecutorAdapter' for action 'execute', task_type 'WRITE'\n",
      "AgentRegistry: Registered adapter 'AggregatorAdapter' for action 'aggregate', task_type 'None'\n",
      "AgentRegistry: Registered adapter 'AggregatorAdapter' with name 'default_aggregator'\n",
      "Initialized OpenAICustomSearchAdapter with model: gpt-4.1\n",
      "AgentRegistry: Registered adapter 'OpenAICustomSearchAdapter' with name 'OpenAICustomSearcher'\n",
      "AgentRegistry: Registered adapter 'OpenAICustomSearchAdapter' for action 'execute', task_type 'SEARCH'\n",
      "Imported agents package successfully (triggered registration).\n",
      "Agent Registry Keys: [('plan', <TaskType.WRITE: 'WRITE'>), ('plan', <TaskType.THINK: 'THINK'>), ('plan', <TaskType.SEARCH: 'SEARCH'>), ('execute', <TaskType.THINK: 'THINK'>), ('execute', <TaskType.WRITE: 'WRITE'>), ('aggregate', None), ('execute', <TaskType.SEARCH: 'SEARCH'>)]\n",
      "Named Agents: ['default_planner', 'SimpleTestPlanner', 'CoreResearchPlanner', 'SearchExecutor', 'SearchSynthesizer', 'BasicReportWriter', 'default_aggregator', 'OpenAICustomSearcher']\n",
      "\n",
      "--- Initializing Framework ---\n"
     ]
    }
   ],
   "source": [
    "import os\n",
    "from dotenv import load_dotenv\n",
    "\n",
    "# Load environment variables (e.g., API keys for LLMs)\n",
    "# Needs: pip install python-dotenv\n",
    "load_dotenv() \n",
    "\n",
    "print(\"--- Loading Framework Components ---\")\n",
    "\n",
    "# Import necessary framework components\n",
    "from sentientresearchagent.hierarchical_agent_framework.graph.task_graph import TaskGraph\n",
    "from sentientresearchagent.hierarchical_agent_framework.graph.state_manager import StateManager\n",
    "from sentientresearchagent.hierarchical_agent_framework.graph.execution_engine import ExecutionEngine\n",
    "from sentientresearchagent.hierarchical_agent_framework.node.node_processor import NodeProcessor\n",
    "from sentientresearchagent.hierarchical_agent_framework.context.knowledge_store import KnowledgeStore\n",
    "# Assuming context_builder.py with resolve_context_for_agent exists\n",
    "from sentientresearchagent. hierarchical_agent_framework.context.context_builder import resolve_context_for_agent \n",
    "\n",
    "# Import the agents package to trigger registration in agents/__init__.py\n",
    "# This is crucial for populating AGENT_REGISTRY and NAMED_AGENTS\n",
    "try:\n",
    "    import sentientresearchagent.hierarchical_agent_framework.agents\n",
    "    print(\"Imported agents package successfully (triggered registration).\")\n",
    "    # You could optionally check here if the registry was populated:\n",
    "    from sentientresearchagent.hierarchical_agent_framework.agents.registry import AGENT_REGISTRY, NAMED_AGENTS\n",
    "    if not AGENT_REGISTRY and not NAMED_AGENTS:\n",
    "         print(\"\\nWARNING: Agent registries appear empty after import. Check agents/__init__.py setup.\\n\")\n",
    "    else:\n",
    "         print(f\"Agent Registry Keys: {list(AGENT_REGISTRY.keys())}\")\n",
    "         print(f\"Named Agents: {list(NAMED_AGENTS.keys())}\")\n",
    "\n",
    "except ImportError as e:\n",
    "    print(f\"\\nERROR: Failed to import agents package: {e}\")\n",
    "    print(\"Please ensure agents/__init__.py and agent definitions/adapters exist and are correct.\")\n",
    "    exit(1)\n",
    "except Exception as e:\n",
    "    print(f\"\\nERROR: An unexpected error occurred during agent import/setup: {e}\")\n",
    "    exit(1)\n",
    "\n",
    "\n",
    "print(\"\\n--- Initializing Framework ---\")"
   ]
  },
  {
   "cell_type": "code",
   "execution_count": 2,
   "metadata": {},
   "outputs": [
    {
     "name": "stderr",
     "output_type": "stream",
     "text": [
      "\u001b[32m15:03:52.119\u001b[0m | \u001b[1mINFO    \u001b[0m | \u001b[36msentientresearchagent.hierarchical_agent_framework.node.node_processor\u001b[0m:\u001b[36m__init__\u001b[0m:\u001b[36m28\u001b[0m - \u001b[1mNodeProcessor initialized.\u001b[0m\n"
     ]
    },
    {
     "name": "stdout",
     "output_type": "stream",
     "text": [
      "\n",
      "--- Starting Test Execution ---\n"
     ]
    }
   ],
   "source": [
    "# Instantiate core components\n",
    "task_graph = TaskGraph()\n",
    "knowledge_store = KnowledgeStore()\n",
    "state_manager = StateManager(task_graph)\n",
    "node_processor = NodeProcessor() # NodeProcessor is currently stateless\n",
    "\n",
    "# Instantiate the execution engine\n",
    "execution_engine = ExecutionEngine(\n",
    "    task_graph=task_graph,\n",
    "    node_processor=node_processor,\n",
    "    state_manager=state_manager,\n",
    "    knowledge_store=knowledge_store\n",
    ")\n",
    "\n",
    "print(\"\\n--- Starting Test Execution ---\")"
   ]
  },
  {
   "cell_type": "code",
   "execution_count": 3,
   "metadata": {},
   "outputs": [
    {
     "name": "stderr",
     "output_type": "stream",
     "text": [
      "\u001b[32m15:03:52.122\u001b[0m | \u001b[32m\u001b[1mSUCCESS \u001b[0m | \u001b[36msentientresearchagent.hierarchical_agent_framework.graph.execution_engine\u001b[0m:\u001b[36minitialize_project\u001b[0m:\u001b[36m59\u001b[0m - \u001b[32m\u001b[1mInitialized with root node: root in graph root_graph\u001b[0m\n"
     ]
    },
    {
     "name": "stdout",
     "output_type": "stream",
     "text": [
      "TaskGraph: Added graph 'root_graph'. Is root: True\n",
      "TaskGraph: Added node 'root' to graph 'root_graph'.\n",
      "KnowledgeStore: Added/Updated record for root\n"
     ]
    }
   ],
   "source": [
    "# Define the root goal for the project\n",
    "# project_goal = \"Write a comprehensive report on the future of renewable energy.\"\n",
    "project_goal = \"Write a detailed report on the U.S. tariffs that were applied recently\" # Simpler for testing\n",
    "\n",
    "# Initialize the project with the root goal\n",
    "# The 'default_planner' name should match one registered in agents/__init__.py\n",
    "execution_engine.initialize_project(\n",
    "    root_goal=project_goal,\n",
    ")"
   ]
  },
  {
   "cell_type": "code",
   "execution_count": null,
   "metadata": {},
   "outputs": [
    {
     "name": "stdout",
     "output_type": "stream",
     "text": [
      "\u001b[96mCONSOLE LOG: \n",
      "--- Starting Execution Cycle ---\u001b[0m\n",
      "\u001b[96m\n",
      "CONSOLE LOG: --- Step 1 of 10 ---\u001b[0m\n",
      "Task root status updated to TaskStatus.READY. Result: None..., Error: None\n",
      "KnowledgeStore: Added/Updated record for root\n",
      "\u001b[92m  Transition: Node root PENDING -> READY\u001b[0m\n",
      "\u001b[93m  Processing Node: root (Status: READY, Layer: 0)\u001b[0m\n",
      "\u001b[96mNodeProcessor: Received node root (Goal: 'Develop a short plan for writi...') with status READY\u001b[0m\n",
      "\u001b[93m  NodeProcessor: Handling READY node root (Type: PLAN, Goal: 'Develop a short plan for writi...')\u001b[0m\n",
      "Task root status updated to TaskStatus.RUNNING. Result: None..., Error: None\n",
      "KnowledgeStore: Added/Updated record for root\n",
      "\u001b[96mContextBuilder: Resolving context for task 'root' (Agent: CoreResearchPlanner, Type: WRITE)\u001b[0m\n",
      "\u001b[93mContextBuilder: No relevant context items found for task 'root'.\u001b[0m\n",
      "DEBUG: About to create AgentTaskInput. current_task_type variable value: 'WRITE'\n",
      "\u001b[96m    NodeProcessor: Preparing PlannerInput for root\u001b[0m\n",
      "AgentRegistry: Found adapter 'PlannerAdapter' by name 'CoreResearchPlanner' for node root.\n",
      "\u001b[96mContextBuilder: Resolving INPUT for PLANNER for task 'root'\u001b[0m\n",
      "\u001b[96m  Adapter 'CoreResearchPlanner': Processing node root (Goal: 'Develop a short plan for writing a blog post about...')\u001b[0m\n",
      "\u001b[93m    DEBUG: User message string to Agno Agent 'CoreResearchPlanner_Agno':\u001b[0m\n",
      "Overall Objective: Develop a short plan for writing a blog post about the benefits of remote work.\n",
      "\n",
      "Current Task Goal: Develop a short plan for writing a blog post about the benefits of remote work.\n",
      "\n",
      "Current Planning Depth: 0\n",
      "\n",
      "\n",
      "Based on the 'Current Task Goal' and other provided information, generate a plan to achieve it.\n",
      "\u001b[92m  PlannerAdapter: Successfully received PlanOutput with 5 sub-tasks from agent 'CoreResearchPlanner' for node root.\u001b[0m\n",
      "TaskGraph: Added graph 'subgraph_root'. Is root: False\n",
      "\u001b[96m    NodeProcessor: Created new subgraph 'subgraph_root' for parent 'root'\u001b[0m\n",
      "TaskGraph: Added node 'root.1' to graph 'subgraph_root'.\n",
      "KnowledgeStore: Added/Updated record for root.1\n",
      "\u001b[92m      Added sub-node: goal='Research key statistics and studies about remote work benefits (productivity, work-life balance, cost savings, etc.)' task_type='SEARCH' node_type='EXECUTE' task_id='root.1' layer=1 parent_node_id='root' agent_name='ResearchAgent' overall_objective=None status=<TaskStatus.PENDING: 'PENDING'> result=None output_summary=None error=None sub_graph_id=None input_payload_dict=None output_type_description=None timestamp_created=datetime.datetime(2025, 5, 13, 16, 56, 2, 100076) timestamp_updated=datetime.datetime(2025, 5, 13, 16, 56, 2, 100093) timestamp_completed=None planned_sub_task_ids=[] to graph subgraph_root\u001b[0m\n",
      "TaskGraph: Added node 'root.2' to graph 'subgraph_root'.\n",
      "KnowledgeStore: Added/Updated record for root.2\n",
      "\u001b[92m      Added sub-node: goal='Identify 3-5 main benefits of remote work to focus on in the blog post, based on research findings' task_type='THINK' node_type='EXECUTE' task_id='root.2' layer=1 parent_node_id='root' agent_name='ContentStrategyAgent' overall_objective=None status=<TaskStatus.PENDING: 'PENDING'> result=None output_summary=None error=None sub_graph_id=None input_payload_dict=None output_type_description=None timestamp_created=datetime.datetime(2025, 5, 13, 16, 56, 2, 100378) timestamp_updated=datetime.datetime(2025, 5, 13, 16, 56, 2, 100382) timestamp_completed=None planned_sub_task_ids=[] to graph subgraph_root\u001b[0m\n",
      "TaskGraph: Added node 'root.3' to graph 'subgraph_root'.\n",
      "KnowledgeStore: Added/Updated record for root.3\n",
      "\u001b[92m      Added sub-node: goal='Create an outline for the blog post with introduction, main benefits sections, and conclusion' task_type='THINK' node_type='EXECUTE' task_id='root.3' layer=1 parent_node_id='root' agent_name='OutlineAgent' overall_objective=None status=<TaskStatus.PENDING: 'PENDING'> result=None output_summary=None error=None sub_graph_id=None input_payload_dict=None output_type_description=None timestamp_created=datetime.datetime(2025, 5, 13, 16, 56, 2, 100548) timestamp_updated=datetime.datetime(2025, 5, 13, 16, 56, 2, 100552) timestamp_completed=None planned_sub_task_ids=[] to graph subgraph_root\u001b[0m\n",
      "TaskGraph: Added node 'root.4' to graph 'subgraph_root'.\n",
      "KnowledgeStore: Added/Updated record for root.4\n",
      "\u001b[92m      Added sub-node: goal='Write the blog post about remote work benefits following the outline' task_type='WRITE' node_type='EXECUTE' task_id='root.4' layer=1 parent_node_id='root' agent_name='ContentWriterAgent' overall_objective=None status=<TaskStatus.PENDING: 'PENDING'> result=None output_summary=None error=None sub_graph_id=None input_payload_dict=None output_type_description=None timestamp_created=datetime.datetime(2025, 5, 13, 16, 56, 2, 100734) timestamp_updated=datetime.datetime(2025, 5, 13, 16, 56, 2, 100738) timestamp_completed=None planned_sub_task_ids=[] to graph subgraph_root\u001b[0m\n",
      "TaskGraph: Added node 'root.5' to graph 'subgraph_root'.\n",
      "KnowledgeStore: Added/Updated record for root.5\n",
      "\u001b[92m      Added sub-node: goal='Review and edit the blog post for clarity, engagement, and accuracy' task_type='THINK' node_type='EXECUTE' task_id='root.5' layer=1 parent_node_id='root' agent_name='EditingAgent' overall_objective=None status=<TaskStatus.PENDING: 'PENDING'> result=None output_summary=None error=None sub_graph_id=None input_payload_dict=None output_type_description=None timestamp_created=datetime.datetime(2025, 5, 13, 16, 56, 2, 100848) timestamp_updated=datetime.datetime(2025, 5, 13, 16, 56, 2, 100850) timestamp_completed=None planned_sub_task_ids=[] to graph subgraph_root\u001b[0m\n",
      "TaskGraph: Added edge root.1 -> root.2 in graph 'subgraph_root'.\n",
      "TaskGraph: Added edge root.2 -> root.3 in graph 'subgraph_root'.\n",
      "TaskGraph: Added edge root.3 -> root.4 in graph 'subgraph_root'.\n",
      "TaskGraph: Added edge root.4 -> root.5 in graph 'subgraph_root'.\n",
      "\u001b[96m    NodeProcessor: Created 5 sub-nodes for parent root.\u001b[0m\n",
      "Task root status updated to TaskStatus.PLAN_DONE. Result: {'sub_tasks': [{'goal': 'Research key statistics a..., Error: None\n",
      "KnowledgeStore: Added/Updated record for root\n",
      "\u001b[96m\n",
      "CONSOLE LOG: --- Step 2 of 10 ---\u001b[0m\n",
      "Task root.1 status updated to TaskStatus.READY. Result: None..., Error: None\n",
      "KnowledgeStore: Added/Updated record for root.1\n",
      "\u001b[92m  Transition: Node root.1 PENDING -> READY\u001b[0m\n",
      "\u001b[93m  Processing Node: root.1 (Status: READY, Layer: 1)\u001b[0m\n",
      "\u001b[96mNodeProcessor: Received node root.1 (Goal: 'Research key statistics and st...') with status READY\u001b[0m\n",
      "\u001b[93m  NodeProcessor: Handling READY node root.1 (Type: EXECUTE, Goal: 'Research key statistics and st...')\u001b[0m\n",
      "Task root.1 status updated to TaskStatus.RUNNING. Result: None..., Error: None\n",
      "KnowledgeStore: Added/Updated record for root.1\n",
      "\u001b[96mContextBuilder: Resolving context for task 'root.1' (Agent: ResearchAgent, Type: SEARCH)\u001b[0m\n",
      "\u001b[93mContextBuilder: No relevant context items found for task 'root.1'.\u001b[0m\n",
      "DEBUG: About to create AgentTaskInput. current_task_type variable value: 'SEARCH'\n",
      "AgentRegistry: Agent name 'ResearchAgent' for node root.1 not found in NAMED_AGENTS. Falling back.\n",
      "AgentRegistry: No adapter found for node root.1 with key ('execute', 'SEARCH').\n",
      "\u001b[91m  NodeProcessor Error: Failed to process READY node root.1: No EXECUTE adapter found for node root.1 (Agent: ResearchAgent, TaskType: SEARCH)\u001b[0m\n",
      "Task root.1 status updated to TaskStatus.FAILED. Result: None..., Error: No EXECUTE adapter found for node root.1 (Agent: ResearchAgent, TaskType: SEARCH)\n",
      "KnowledgeStore: Added/Updated record for root.1\n",
      "\u001b[96m\n",
      "CONSOLE LOG: --- Step 3 of 10 ---\u001b[0m\n",
      "\u001b[91mCONSOLE LOG: \n",
      "--- Execution Halted: No progress made in this step. Possible deadlock or incomplete logic. ---\u001b[0m\n",
      "\u001b[91m    - Active: root, Status: PLAN_DONE, Goal: 'Develop a short plan for writing a blog post about...'\u001b[0m\n",
      "\u001b[91m    - Active: root.2, Status: PENDING, Goal: 'Identify 3-5 main benefits of remote work to focus...'\u001b[0m\n",
      "\u001b[91m    - Active: root.3, Status: PENDING, Goal: 'Create an outline for the blog post with introduct...'\u001b[0m\n",
      "\u001b[91m    - Active: root.4, Status: PENDING, Goal: 'Write the blog post about remote work benefits fol...'\u001b[0m\n",
      "\u001b[91m    - Active: root.5, Status: PENDING, Goal: 'Review and edit the blog post for clarity, engagem...'\u001b[0m\n",
      "\u001b[96mCONSOLE LOG: \n",
      "--- Final Node Statuses & Results ---\u001b[0m\n",
      "CONSOLE LOG: - Node root (L0, Agent: CoreResearchPlanner, Goal: 'Develop a short plan for writi...'): Status=\u001b[93mPLAN_DONE\u001b[0m, Result='{'sub_tasks': [{'goal': 'Research key statistics and studies about rem...'\n",
      "CONSOLE LOG: - Node root.1 (L1, Agent: ResearchAgent, Goal: 'Research key statistics and st...'): Status=\u001b[91mFAILED\u001b[0m\u001b[91m (Error: No EXECUTE adapter found for node root.1 (Agent: ResearchAgent, TaskType: SEARCH))\u001b[0m, Result='None'\n",
      "CONSOLE LOG: - Node root.2 (L1, Agent: ContentStrategyAgent, Goal: 'Identify 3-5 main benefits of ...'): Status=\u001b[93mPENDING\u001b[0m, Result='None'\n",
      "CONSOLE LOG: - Node root.3 (L1, Agent: OutlineAgent, Goal: 'Create an outline for the blog...'): Status=\u001b[93mPENDING\u001b[0m, Result='None'\n",
      "CONSOLE LOG: - Node root.4 (L1, Agent: ContentWriterAgent, Goal: 'Write the blog post about remo...'): Status=\u001b[93mPENDING\u001b[0m, Result='None'\n",
      "CONSOLE LOG: - Node root.5 (L1, Agent: EditingAgent, Goal: 'Review and edit the blog post ...'): Status=\u001b[93mPENDING\u001b[0m, Result='None'\n",
      "\u001b[92mCONSOLE LOG: \n",
      "Root Task ('Develop a short plan for writing a blog post about the benefits of remote work.') Final Result:\u001b[0m\n",
      "{'sub_tasks': [{'agent_name': 'ResearchAgent',\n",
      "                'goal': 'Research key statistics and studies about remote work '\n",
      "                        'benefits (productivity, work-life balance, cost '\n",
      "                        'savings, etc.)',\n",
      "                'node_type': 'EXECUTE',\n",
      "                'task_type': 'SEARCH'},\n",
      "               {'agent_name': 'ContentStrategyAgent',\n",
      "                'goal': 'Identify 3-5 main benefits of remote work to focus on '\n",
      "                        'in the blog post, based on research findings',\n",
      "                'node_type': 'EXECUTE',\n",
      "                'task_type': 'THINK'},\n",
      "               {'agent_name': 'OutlineAgent',\n",
      "                'goal': 'Create an outline for the blog post with '\n",
      "                        'introduction, main benefits sections, and conclusion',\n",
      "                'node_type': 'EXECUTE',\n",
      "                'task_type': 'THINK'},\n",
      "               {'agent_name': 'ContentWriterAgent',\n",
      "                'goal': 'Write the blog post about remote work benefits '\n",
      "                        'following the outline',\n",
      "                'node_type': 'EXECUTE',\n",
      "                'task_type': 'WRITE'},\n",
      "               {'agent_name': 'EditingAgent',\n",
      "                'goal': 'Review and edit the blog post for clarity, '\n",
      "                        'engagement, and accuracy',\n",
      "                'node_type': 'EXECUTE',\n",
      "                'task_type': 'THINK'}]}\n"
     ]
    },
    {
     "data": {
      "text/plain": [
       "{'sub_tasks': [{'goal': 'Research key statistics and studies about remote work benefits (productivity, work-life balance, cost savings, etc.)',\n",
       "   'task_type': 'SEARCH',\n",
       "   'node_type': 'EXECUTE',\n",
       "   'agent_name': 'ResearchAgent'},\n",
       "  {'goal': 'Identify 3-5 main benefits of remote work to focus on in the blog post, based on research findings',\n",
       "   'task_type': 'THINK',\n",
       "   'node_type': 'EXECUTE',\n",
       "   'agent_name': 'ContentStrategyAgent'},\n",
       "  {'goal': 'Create an outline for the blog post with introduction, main benefits sections, and conclusion',\n",
       "   'task_type': 'THINK',\n",
       "   'node_type': 'EXECUTE',\n",
       "   'agent_name': 'OutlineAgent'},\n",
       "  {'goal': 'Write the blog post about remote work benefits following the outline',\n",
       "   'task_type': 'WRITE',\n",
       "   'node_type': 'EXECUTE',\n",
       "   'agent_name': 'ContentWriterAgent'},\n",
       "  {'goal': 'Review and edit the blog post for clarity, engagement, and accuracy',\n",
       "   'task_type': 'THINK',\n",
       "   'node_type': 'EXECUTE',\n",
       "   'agent_name': 'EditingAgent'}]}"
      ]
     },
     "metadata": {},
     "output_type": "display_data"
    }
   ],
   "source": [
    "execution_engine.run_cycle(max_steps=10)"
   ]
  },
  {
   "cell_type": "code",
   "execution_count": 4,
   "metadata": {},
   "outputs": [
    {
     "name": "stderr",
     "output_type": "stream",
     "text": [
      "\u001b[32m13:01:45.265\u001b[0m | \u001b[1mINFO    \u001b[0m | \u001b[36msentientresearchagent.hierarchical_agent_framework.agents.definitions.atomizer_agents\u001b[0m:\u001b[36m<module>\u001b[0m:\u001b[36m150\u001b[0m - \u001b[1mSuccessfully initialized DefaultAtomizer_Agno with model openrouter/anthropic/claude-3-7-sonnet\u001b[0m\n",
      "\u001b[32m13:01:45.290\u001b[0m | \u001b[33m\u001b[1mWARNING \u001b[0m | \u001b[36msentientresearchagent.hierarchical_agent_framework.agents.definitions.custom_searchers\u001b[0m:\u001b[36m<module>\u001b[0m:\u001b[36m13\u001b[0m - \u001b[33m\u001b[1mWarning: google.genai module not found. GeminiSearcherWrapper will not be usable.\u001b[0m\n",
      "\u001b[32m13:01:45.291\u001b[0m | \u001b[1mINFO    \u001b[0m | \u001b[36msentientresearchagent.hierarchical_agent_framework.agents\u001b[0m:\u001b[36m<module>\u001b[0m:\u001b[36m26\u001b[0m - \u001b[1mExecuting agents/__init__.py: Setting up and registering agents...\u001b[0m\n",
      "\u001b[32m13:01:45.292\u001b[0m | \u001b[1mINFO    \u001b[0m | \u001b[36msentientresearchagent.hierarchical_agent_framework.agents\u001b[0m:\u001b[36m<module>\u001b[0m:\u001b[36m100\u001b[0m - \u001b[1mDEBUG: Value of search_synthesizer_agno_agent before registration: Agent(model=LiteLLM(id='openrouter/anthropic/claude-3-7-sonnet', name='LiteLLM', provider='LiteLLM', response_format=None, structured_outputs=False, supports_native_structured_outputs=False, supports_json_schema_outputs=False, tool_choice=None, show_tool_calls=None, tool_call_limit=None, _tools=None, _functions=None, _function_call_stack=None, system_prompt=None, instructions=None, tool_message_role='tool', assistant_message_role='assistant', api_key=None, api_base=None, max_tokens=None, temperature=0.7, top_p=1.0, request_params=None, client=None), name='SearchSynthesizer_Agno', agent_id=None, introduction=None, user_id=None, session_id=None, session_name=None, session_state=None, context=None, add_context=False, resolve_context=True, memory=None, enable_agentic_memory=False, enable_user_memories=False, add_memory_references=None, enable_session_summaries=False, add_session_summary_references=None, add_history_to_messages=False, num_history_responses=None, num_history_runs=3, knowledge=None, knowledge_filters=None, enable_agentic_knowledge_filters=None, add_references=False, retriever=None, references_format='json', storage=None, extra_data=None, tools=None, show_tool_calls=True, tool_call_limit=None, tool_choice=None, tool_hooks=None, reasoning=False, reasoning_model=None, reasoning_agent=None, reasoning_min_steps=1, reasoning_max_steps=10, read_chat_history=False, search_knowledge=True, update_knowledge=False, read_tool_call_history=False, system_message=\"You are a search results synthesizer. You will be given a 'Research Goal' and 'Raw Search Results' (as context, typically from a 'SearchExecutor' agent in WebSearchResultsOutput format).\\nYour primary task is to carefully review all provided search result snippets and generate a concise, coherent text summary of the information that is most relevant to the original 'Research Goal'.\\nExtract key facts, figures, and insights. The summary should be in well-formatted markdown.\\nOutput *only* this markdown summary. Do not include any preambles or conversational text.\\n\", system_message_role='system', create_default_system_message=True, description=None, goal=None, instructions=None, expected_output=None, additional_context=None, markdown=False, add_name_to_instructions=False, add_datetime_to_instructions=False, timezone_identifier=None, add_state_in_messages=False, add_messages=None, user_message=None, user_message_role='user', create_default_user_message=True, retries=0, delay_between_retries=1, exponential_backoff=False, response_model=None, parse_response=True, structured_outputs=None, use_json_mode=False, save_response_to_file=None, stream=None, stream_intermediate_steps=False, team=None, team_data=None, role=None, respond_directly=False, add_transfer_instructions=True, team_response_separator='\\n', team_session_id=None, team_id=None, team_session_state=None, debug_mode=False, monitoring=False, telemetry=True)\u001b[0m\n",
      "\u001b[32m13:01:45.292\u001b[0m | \u001b[1mINFO    \u001b[0m | \u001b[36msentientresearchagent.hierarchical_agent_framework.agents\u001b[0m:\u001b[36m<module>\u001b[0m:\u001b[36m165\u001b[0m - \u001b[1mRegistered adapter: DefaultAtomizer for atomization\u001b[0m\n",
      "\u001b[32m13:01:45.292\u001b[0m | \u001b[1mINFO    \u001b[0m | \u001b[36msentientresearchagent.hierarchical_agent_framework.agents\u001b[0m:\u001b[36m<module>\u001b[0m:\u001b[36m171\u001b[0m - \u001b[1mDEBUG: Value of default_aggregator_agno_agent before registration: Agent(model=LiteLLM(id='openrouter/anthropic/claude-3-7-sonnet', name='LiteLLM', provider='LiteLLM', response_format=None, structured_outputs=False, supports_native_structured_outputs=False, supports_json_schema_outputs=False, tool_choice=None, show_tool_calls=None, tool_call_limit=None, _tools=None, _functions=None, _function_call_stack=None, system_prompt=None, instructions=None, tool_message_role='tool', assistant_message_role='assistant', api_key=None, api_base=None, max_tokens=None, temperature=0.7, top_p=1.0, request_params=None, client=None), name='DefaultAggregator_Agno', agent_id=None, introduction=None, user_id=None, session_id=None, session_name=None, session_state=None, context=None, add_context=False, resolve_context=True, memory=None, enable_agentic_memory=False, enable_user_memories=False, add_memory_references=None, enable_session_summaries=False, add_session_summary_references=None, add_history_to_messages=False, num_history_responses=None, num_history_runs=3, knowledge=None, knowledge_filters=None, enable_agentic_knowledge_filters=None, add_references=False, retriever=None, references_format='json', storage=None, extra_data=None, tools=None, show_tool_calls=True, tool_call_limit=None, tool_choice=None, tool_hooks=None, reasoning=False, reasoning_model=None, reasoning_agent=None, reasoning_min_steps=1, reasoning_max_steps=10, read_chat_history=False, search_knowledge=True, update_knowledge=False, read_tool_call_history=False, system_message='You are an expert report compiler and editor.\\nYou will be provided with a \\'Parent Task Goal\\' (e.g., \"Write a comprehensive report on X\") and \\'Context from Child Tasks\\'.\\nThe context will contain multiple detailed sections, each potentially fulfilling a sub-goal of the Parent Task Goal. These sections are likely already well-written and may include markdown formatting and citations (e.g., [Source](URL)).\\n\\nYour primary task is to:\\n1.  Carefully review all provided child task outputs (report sections).\\n2.  Assemble these sections into a single, coherent, and comprehensive final report that directly and fully addresses the \\'Parent Task Goal\\'.\\n3.  Ensure a logical flow between sections. You may need to write short transitional sentences or phrases if appropriate, but primarily focus on integrating the provided sections.\\n4.  Preserve the detail, formatting (especially markdown headings, lists, etc.), and all citations from the original sections. Do NOT summarize the content of the sections unless the Parent Task Goal explicitly implies a very high-level summary of many detailed parts.\\n5.  If there\\'s only one child task output and it comprehensively addresses the Parent Task Goal, you can present that as the final answer.\\n6.  The final output should be clean, well-structured in markdown, and directly usable as a full report section or complete report.\\n7.  Do not add conversational fluff or preambles like \"Here is the compiled report:\". Only output the final compiled answer.\\n', system_message_role='system', create_default_system_message=True, description=None, goal=None, instructions=None, expected_output=None, additional_context=None, markdown=False, add_name_to_instructions=False, add_datetime_to_instructions=False, timezone_identifier=None, add_state_in_messages=False, add_messages=None, user_message=None, user_message_role='user', create_default_user_message=True, retries=0, delay_between_retries=1, exponential_backoff=False, response_model=None, parse_response=True, structured_outputs=None, use_json_mode=False, save_response_to_file=None, stream=None, stream_intermediate_steps=False, team=None, team_data=None, role=None, respond_directly=False, add_transfer_instructions=True, team_response_separator='\\n', team_session_id=None, team_id=None, team_session_state=None, debug_mode=False, monitoring=False, telemetry=True)\u001b[0m\n",
      "\u001b[32m13:01:45.292\u001b[0m | \u001b[1mINFO    \u001b[0m | \u001b[36msentientresearchagent.hierarchical_agent_framework.agents\u001b[0m:\u001b[36m<module>\u001b[0m:\u001b[36m191\u001b[0m - \u001b[1mRegistered adapter: DefaultAggregator for aggregation\u001b[0m\n",
      "\u001b[32m13:01:45.297\u001b[0m | \u001b[1mINFO    \u001b[0m | \u001b[36msentientresearchagent.hierarchical_agent_framework.agents.definitions.custom_searchers\u001b[0m:\u001b[36m__init__\u001b[0m:\u001b[36m133\u001b[0m - \u001b[1mInitialized OpenAICustomSearchAdapter with model: gpt-4.1 (Async Client: True)\u001b[0m\n",
      "\u001b[32m13:01:45.297\u001b[0m | \u001b[1mINFO    \u001b[0m | \u001b[36msentientresearchagent.hierarchical_agent_framework.agents\u001b[0m:\u001b[36m<module>\u001b[0m:\u001b[36m209\u001b[0m - \u001b[1mRegistered direct adapter: OpenAICustomSearchAdapter as 'OpenAICustomSearcher' AND for ('execute', SEARCH)\u001b[0m\n",
      "\u001b[32m13:01:45.298\u001b[0m | \u001b[1mINFO    \u001b[0m | \u001b[36msentientresearchagent.hierarchical_agent_framework.agents\u001b[0m:\u001b[36m<module>\u001b[0m:\u001b[36m216\u001b[0m - \u001b[1mAGENT_REGISTRY populated: 8 entries.\u001b[0m\n",
      "\u001b[32m13:01:45.298\u001b[0m | \u001b[1mINFO    \u001b[0m | \u001b[36msentientresearchagent.hierarchical_agent_framework.agents\u001b[0m:\u001b[36m<module>\u001b[0m:\u001b[36m217\u001b[0m - \u001b[1mNAMED_AGENTS populated: 9 entries.\u001b[0m\n"
     ]
    },
    {
     "name": "stdout",
     "output_type": "stream",
     "text": [
      "AgentRegistry: Registered adapter 'PlannerAdapter' for action 'plan', task_type 'WRITE'\n",
      "AgentRegistry: Registered adapter 'PlannerAdapter' for action 'plan', task_type 'THINK'\n",
      "AgentRegistry: Registered adapter 'PlannerAdapter' for action 'plan', task_type 'SEARCH'\n",
      "AgentRegistry: Registered adapter 'PlannerAdapter' with name 'default_planner'\n",
      "AgentRegistry: Registered adapter 'PlannerAdapter' with name 'SimpleTestPlanner'\n",
      "AgentRegistry: Registered adapter 'PlannerAdapter' with name 'CoreResearchPlanner'\n",
      "AgentRegistry: Registered adapter 'ExecutorAdapter' with name 'SearchExecutor'\n",
      "AgentRegistry: Registered adapter 'ExecutorAdapter' with name 'SearchSynthesizer'\n",
      "AgentRegistry: Registered adapter 'ExecutorAdapter' for action 'execute', task_type 'THINK'\n",
      "AgentRegistry: Registered adapter 'ExecutorAdapter' with name 'BasicReportWriter'\n",
      "AgentRegistry: Registered adapter 'ExecutorAdapter' for action 'execute', task_type 'WRITE'\n",
      "AgentRegistry: Registered adapter 'AtomizerAdapter' for action 'atomize', task_type 'None'\n",
      "AgentRegistry: Registered adapter 'AtomizerAdapter' with name 'default_atomizer'\n",
      "AgentRegistry: Registered adapter 'AggregatorAdapter' for action 'aggregate', task_type 'None'\n",
      "AgentRegistry: Registered adapter 'AggregatorAdapter' with name 'default_aggregator'\n",
      "AgentRegistry: Registered adapter 'OpenAICustomSearchAdapter' with name 'OpenAICustomSearcher'\n",
      "AgentRegistry: Registered adapter 'OpenAICustomSearchAdapter' for action 'execute', task_type 'SEARCH'\n"
     ]
    }
   ],
   "source": [
    "from sentientresearchagent.hierarchical_agent_framework.agents.definitions.planner_agents import core_research_planner_agno_agent\n",
    "\n",
    "final_output = await core_research_planner_agno_agent.arun(\"Who built the pyramids?\")"
   ]
  },
  {
   "cell_type": "code",
   "execution_count": 6,
   "metadata": {},
   "outputs": [
    {
     "name": "stdout",
     "output_type": "stream",
     "text": [
      "sub_tasks=[SubTask(goal='Research the historical consensus on who built the Egyptian pyramids (workers, skilled laborers, farmers during off-seasons, etc.)', task_type='SEARCH', node_type='EXECUTE'), SubTask(goal='Investigate the evidence debunking common misconceptions about slave labor and pyramid construction', task_type='SEARCH', node_type='EXECUTE'), SubTask(goal='Research the organizational structure, leadership, and management of pyramid construction projects in ancient Egypt', task_type='SEARCH', node_type='EXECUTE'), SubTask(goal='Find information about the living conditions, compensation, and social status of pyramid builders based on archaeological evidence', task_type='SEARCH', node_type='EXECUTE'), SubTask(goal='Synthesize research findings to create a comprehensive answer about who built the pyramids, addressing both historical facts and common misconceptions', task_type='WRITE', node_type='EXECUTE')]\n"
     ]
    }
   ],
   "source": [
    "print(final_output.content)"
   ]
  },
  {
   "cell_type": "code",
   "execution_count": null,
   "metadata": {},
   "outputs": [],
   "source": []
  }
 ],
 "metadata": {
  "kernelspec": {
   "display_name": ".venv",
   "language": "python",
   "name": "python3"
  },
  "language_info": {
   "codemirror_mode": {
    "name": "ipython",
    "version": 3
   },
   "file_extension": ".py",
   "mimetype": "text/x-python",
   "name": "python",
   "nbconvert_exporter": "python",
   "pygments_lexer": "ipython3",
   "version": "3.12.9"
  }
 },
 "nbformat": 4,
 "nbformat_minor": 2
}
